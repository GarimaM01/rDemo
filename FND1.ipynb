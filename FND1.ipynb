{
 "cells": [
  {
   "cell_type": "markdown",
   "id": "ddb996bd",
   "metadata": {},
   "source": [
    "## Fake News Detection"
   ]
  },
  {
   "cell_type": "markdown",
   "id": "a3bc2f71",
   "metadata": {},
   "source": [
    "Import library"
   ]
  },
  {
   "cell_type": "code",
   "execution_count": null,
   "id": "21fd6512",
   "metadata": {},
   "outputs": [
    {
     "ename": "",
     "evalue": "",
     "output_type": "error",
     "traceback": [
      "\u001b[1;31mUnable to start Kernel 'base (Python 3.9.7)' due to connection timeout. \n",
      "View Jupyter <a href='command:jupyter.viewOutput'>log</a> for further details."
     ]
    }
   ],
   "source": [
    "import nltk\n",
    "import json\n",
    "import re\n",
    "import seaborn as sns\n",
    "import pandas as pd\n",
    "import matplotlib.pyplot as plt\n",
    "%matplotlib inline\n",
    "import pandas as pd\n",
    "import csv\n",
    "import numpy as np\n",
    "import nltk\n",
    "import seaborn as sb\n",
    "import warnings"
   ]
  },
  {
   "cell_type": "code",
   "execution_count": null,
   "id": "49fd0e14",
   "metadata": {},
   "outputs": [],
   "source": [
    "df=pd.read_csv(r\"C:/Users/Lenovo/Desktop/FakeNewsDetectionOnSocialMedia/train1.csv\", delimiter='\\t', quoting=3, header= None, engine='python')"
   ]
  },
  {
   "cell_type": "code",
   "execution_count": null,
   "id": "24f8956d",
   "metadata": {},
   "outputs": [
    {
     "data": {
      "text/html": [
       "<div>\n",
       "<style scoped>\n",
       "    .dataframe tbody tr th:only-of-type {\n",
       "        vertical-align: middle;\n",
       "    }\n",
       "\n",
       "    .dataframe tbody tr th {\n",
       "        vertical-align: top;\n",
       "    }\n",
       "\n",
       "    .dataframe thead th {\n",
       "        text-align: right;\n",
       "    }\n",
       "</style>\n",
       "<table border=\"1\" class=\"dataframe\">\n",
       "  <thead>\n",
       "    <tr style=\"text-align: right;\">\n",
       "      <th></th>\n",
       "      <th>0</th>\n",
       "      <th>1</th>\n",
       "      <th>2</th>\n",
       "      <th>3</th>\n",
       "      <th>4</th>\n",
       "      <th>5</th>\n",
       "      <th>6</th>\n",
       "      <th>7</th>\n",
       "      <th>8</th>\n",
       "      <th>9</th>\n",
       "      <th>10</th>\n",
       "      <th>11</th>\n",
       "      <th>12</th>\n",
       "      <th>13</th>\n",
       "    </tr>\n",
       "  </thead>\n",
       "  <tbody>\n",
       "    <tr>\n",
       "      <th>0</th>\n",
       "      <td>2635.json</td>\n",
       "      <td>false</td>\n",
       "      <td>Says the Annies List political group supports ...</td>\n",
       "      <td>abortion</td>\n",
       "      <td>dwayne-bohac</td>\n",
       "      <td>State representative</td>\n",
       "      <td>Texas</td>\n",
       "      <td>republican</td>\n",
       "      <td>0</td>\n",
       "      <td>1</td>\n",
       "      <td>0</td>\n",
       "      <td>0</td>\n",
       "      <td>0</td>\n",
       "      <td>a mailer</td>\n",
       "    </tr>\n",
       "    <tr>\n",
       "      <th>1</th>\n",
       "      <td>10540.json</td>\n",
       "      <td>half-true</td>\n",
       "      <td>When did the decline of coal start? It started...</td>\n",
       "      <td>energy,history,job-accomplishments</td>\n",
       "      <td>scott-surovell</td>\n",
       "      <td>State delegate</td>\n",
       "      <td>Virginia</td>\n",
       "      <td>democrat</td>\n",
       "      <td>0</td>\n",
       "      <td>0</td>\n",
       "      <td>1</td>\n",
       "      <td>1</td>\n",
       "      <td>0</td>\n",
       "      <td>a floor speech.</td>\n",
       "    </tr>\n",
       "    <tr>\n",
       "      <th>2</th>\n",
       "      <td>324.json</td>\n",
       "      <td>mostly-true</td>\n",
       "      <td>Hillary Clinton agrees with John McCain \"by vo...</td>\n",
       "      <td>foreign-policy</td>\n",
       "      <td>barack-obama</td>\n",
       "      <td>President</td>\n",
       "      <td>Illinois</td>\n",
       "      <td>democrat</td>\n",
       "      <td>70</td>\n",
       "      <td>71</td>\n",
       "      <td>160</td>\n",
       "      <td>163</td>\n",
       "      <td>9</td>\n",
       "      <td>Denver</td>\n",
       "    </tr>\n",
       "    <tr>\n",
       "      <th>3</th>\n",
       "      <td>1123.json</td>\n",
       "      <td>false</td>\n",
       "      <td>Health care reform legislation is likely to ma...</td>\n",
       "      <td>health-care</td>\n",
       "      <td>blog-posting</td>\n",
       "      <td>NaN</td>\n",
       "      <td>NaN</td>\n",
       "      <td>none</td>\n",
       "      <td>7</td>\n",
       "      <td>19</td>\n",
       "      <td>3</td>\n",
       "      <td>5</td>\n",
       "      <td>44</td>\n",
       "      <td>a news release</td>\n",
       "    </tr>\n",
       "    <tr>\n",
       "      <th>4</th>\n",
       "      <td>9028.json</td>\n",
       "      <td>half-true</td>\n",
       "      <td>The economic turnaround started at the end of ...</td>\n",
       "      <td>economy,jobs</td>\n",
       "      <td>charlie-crist</td>\n",
       "      <td>NaN</td>\n",
       "      <td>Florida</td>\n",
       "      <td>democrat</td>\n",
       "      <td>15</td>\n",
       "      <td>9</td>\n",
       "      <td>20</td>\n",
       "      <td>19</td>\n",
       "      <td>2</td>\n",
       "      <td>an interview on CNN</td>\n",
       "    </tr>\n",
       "    <tr>\n",
       "      <th>5</th>\n",
       "      <td>12465.json</td>\n",
       "      <td>true</td>\n",
       "      <td>The Chicago Bears have had more starting quart...</td>\n",
       "      <td>education</td>\n",
       "      <td>robin-vos</td>\n",
       "      <td>Wisconsin Assembly speaker</td>\n",
       "      <td>Wisconsin</td>\n",
       "      <td>republican</td>\n",
       "      <td>0</td>\n",
       "      <td>3</td>\n",
       "      <td>2</td>\n",
       "      <td>5</td>\n",
       "      <td>1</td>\n",
       "      <td>a an online opinion-piece</td>\n",
       "    </tr>\n",
       "    <tr>\n",
       "      <th>6</th>\n",
       "      <td>2342.json</td>\n",
       "      <td>barely-true</td>\n",
       "      <td>Jim Dunnam has not lived in the district he re...</td>\n",
       "      <td>candidates-biography</td>\n",
       "      <td>republican-party-texas</td>\n",
       "      <td>NaN</td>\n",
       "      <td>Texas</td>\n",
       "      <td>republican</td>\n",
       "      <td>3</td>\n",
       "      <td>1</td>\n",
       "      <td>1</td>\n",
       "      <td>3</td>\n",
       "      <td>1</td>\n",
       "      <td>a press release.</td>\n",
       "    </tr>\n",
       "    <tr>\n",
       "      <th>7</th>\n",
       "      <td>153.json</td>\n",
       "      <td>half-true</td>\n",
       "      <td>\"I'm the only person on this stage who has wor...</td>\n",
       "      <td>ethics</td>\n",
       "      <td>barack-obama</td>\n",
       "      <td>President</td>\n",
       "      <td>Illinois</td>\n",
       "      <td>democrat</td>\n",
       "      <td>70</td>\n",
       "      <td>71</td>\n",
       "      <td>160</td>\n",
       "      <td>163</td>\n",
       "      <td>9</td>\n",
       "      <td>a Democratic debate in Philadelphia, Pa.</td>\n",
       "    </tr>\n",
       "    <tr>\n",
       "      <th>8</th>\n",
       "      <td>5602.json</td>\n",
       "      <td>half-true</td>\n",
       "      <td>However, it took $19.5 million in Oregon Lotte...</td>\n",
       "      <td>jobs</td>\n",
       "      <td>oregon-lottery</td>\n",
       "      <td>NaN</td>\n",
       "      <td>NaN</td>\n",
       "      <td>organization</td>\n",
       "      <td>0</td>\n",
       "      <td>0</td>\n",
       "      <td>1</td>\n",
       "      <td>0</td>\n",
       "      <td>1</td>\n",
       "      <td>a website</td>\n",
       "    </tr>\n",
       "    <tr>\n",
       "      <th>9</th>\n",
       "      <td>9741.json</td>\n",
       "      <td>mostly-true</td>\n",
       "      <td>Says GOP primary opponents Glenn Grothman and ...</td>\n",
       "      <td>energy,message-machine-2014,voting-record</td>\n",
       "      <td>duey-stroebel</td>\n",
       "      <td>State representative</td>\n",
       "      <td>Wisconsin</td>\n",
       "      <td>republican</td>\n",
       "      <td>0</td>\n",
       "      <td>0</td>\n",
       "      <td>0</td>\n",
       "      <td>1</td>\n",
       "      <td>0</td>\n",
       "      <td>an online video</td>\n",
       "    </tr>\n",
       "  </tbody>\n",
       "</table>\n",
       "</div>"
      ],
      "text/plain": [
       "           0            1                                                  2   \\\n",
       "0   2635.json        false  Says the Annies List political group supports ...   \n",
       "1  10540.json    half-true  When did the decline of coal start? It started...   \n",
       "2    324.json  mostly-true  Hillary Clinton agrees with John McCain \"by vo...   \n",
       "3   1123.json        false  Health care reform legislation is likely to ma...   \n",
       "4   9028.json    half-true  The economic turnaround started at the end of ...   \n",
       "5  12465.json         true  The Chicago Bears have had more starting quart...   \n",
       "6   2342.json  barely-true  Jim Dunnam has not lived in the district he re...   \n",
       "7    153.json    half-true  \"I'm the only person on this stage who has wor...   \n",
       "8   5602.json    half-true  However, it took $19.5 million in Oregon Lotte...   \n",
       "9   9741.json  mostly-true  Says GOP primary opponents Glenn Grothman and ...   \n",
       "\n",
       "                                          3                       4   \\\n",
       "0                                   abortion            dwayne-bohac   \n",
       "1         energy,history,job-accomplishments          scott-surovell   \n",
       "2                             foreign-policy            barack-obama   \n",
       "3                                health-care            blog-posting   \n",
       "4                               economy,jobs           charlie-crist   \n",
       "5                                  education               robin-vos   \n",
       "6                       candidates-biography  republican-party-texas   \n",
       "7                                     ethics            barack-obama   \n",
       "8                                       jobs          oregon-lottery   \n",
       "9  energy,message-machine-2014,voting-record           duey-stroebel   \n",
       "\n",
       "                           5          6             7   8   9    10   11  12  \\\n",
       "0        State representative      Texas    republican   0   1    0    0   0   \n",
       "1              State delegate   Virginia      democrat   0   0    1    1   0   \n",
       "2                   President   Illinois      democrat  70  71  160  163   9   \n",
       "3                         NaN        NaN          none   7  19    3    5  44   \n",
       "4                         NaN    Florida      democrat  15   9   20   19   2   \n",
       "5  Wisconsin Assembly speaker  Wisconsin    republican   0   3    2    5   1   \n",
       "6                         NaN      Texas    republican   3   1    1    3   1   \n",
       "7                   President   Illinois      democrat  70  71  160  163   9   \n",
       "8                         NaN        NaN  organization   0   0    1    0   1   \n",
       "9        State representative  Wisconsin    republican   0   0    0    1   0   \n",
       "\n",
       "                                         13  \n",
       "0                                  a mailer  \n",
       "1                           a floor speech.  \n",
       "2                                    Denver  \n",
       "3                            a news release  \n",
       "4                       an interview on CNN  \n",
       "5                 a an online opinion-piece  \n",
       "6                          a press release.  \n",
       "7  a Democratic debate in Philadelphia, Pa.  \n",
       "8                                a website   \n",
       "9                           an online video  "
      ]
     },
     "execution_count": 3,
     "metadata": {},
     "output_type": "execute_result"
    }
   ],
   "source": [
    "df.head(10)"
   ]
  },
  {
   "cell_type": "code",
   "execution_count": null,
   "id": "43fa4bab",
   "metadata": {},
   "outputs": [],
   "source": [
    "train = pd.read_csv('train.csv', delimiter='\\t', quoting=3, header=None)\n",
    "test = pd.read_csv('test.csv', delimiter='\\t', quoting=3, header=None)\n",
    "valid = pd.read_csv('valid.csv', delimiter='\\t', quoting=3, header=None)"
   ]
  },
  {
   "cell_type": "code",
   "execution_count": null,
   "id": "687dd954",
   "metadata": {},
   "outputs": [
    {
     "data": {
      "text/html": [
       "<div>\n",
       "<style scoped>\n",
       "    .dataframe tbody tr th:only-of-type {\n",
       "        vertical-align: middle;\n",
       "    }\n",
       "\n",
       "    .dataframe tbody tr th {\n",
       "        vertical-align: top;\n",
       "    }\n",
       "\n",
       "    .dataframe thead th {\n",
       "        text-align: right;\n",
       "    }\n",
       "</style>\n",
       "<table border=\"1\" class=\"dataframe\">\n",
       "  <thead>\n",
       "    <tr style=\"text-align: right;\">\n",
       "      <th></th>\n",
       "      <th>0</th>\n",
       "      <th>1</th>\n",
       "      <th>2</th>\n",
       "      <th>3</th>\n",
       "      <th>4</th>\n",
       "      <th>5</th>\n",
       "      <th>6</th>\n",
       "      <th>7</th>\n",
       "      <th>8</th>\n",
       "      <th>9</th>\n",
       "      <th>10</th>\n",
       "      <th>11</th>\n",
       "      <th>12</th>\n",
       "      <th>13</th>\n",
       "    </tr>\n",
       "  </thead>\n",
       "  <tbody>\n",
       "    <tr>\n",
       "      <th>0</th>\n",
       "      <td>2635.json</td>\n",
       "      <td>false</td>\n",
       "      <td>Says the Annies List political group supports ...</td>\n",
       "      <td>abortion</td>\n",
       "      <td>dwayne-bohac</td>\n",
       "      <td>State representative</td>\n",
       "      <td>Texas</td>\n",
       "      <td>republican</td>\n",
       "      <td>0</td>\n",
       "      <td>1</td>\n",
       "      <td>0</td>\n",
       "      <td>0</td>\n",
       "      <td>0</td>\n",
       "      <td>a mailer</td>\n",
       "    </tr>\n",
       "    <tr>\n",
       "      <th>1</th>\n",
       "      <td>10540.json</td>\n",
       "      <td>half-true</td>\n",
       "      <td>When did the decline of coal start? It started...</td>\n",
       "      <td>energy,history,job-accomplishments</td>\n",
       "      <td>scott-surovell</td>\n",
       "      <td>State delegate</td>\n",
       "      <td>Virginia</td>\n",
       "      <td>democrat</td>\n",
       "      <td>0</td>\n",
       "      <td>0</td>\n",
       "      <td>1</td>\n",
       "      <td>1</td>\n",
       "      <td>0</td>\n",
       "      <td>a floor speech.</td>\n",
       "    </tr>\n",
       "    <tr>\n",
       "      <th>2</th>\n",
       "      <td>324.json</td>\n",
       "      <td>mostly-true</td>\n",
       "      <td>Hillary Clinton agrees with John McCain \"by vo...</td>\n",
       "      <td>foreign-policy</td>\n",
       "      <td>barack-obama</td>\n",
       "      <td>President</td>\n",
       "      <td>Illinois</td>\n",
       "      <td>democrat</td>\n",
       "      <td>70</td>\n",
       "      <td>71</td>\n",
       "      <td>160</td>\n",
       "      <td>163</td>\n",
       "      <td>9</td>\n",
       "      <td>Denver</td>\n",
       "    </tr>\n",
       "    <tr>\n",
       "      <th>3</th>\n",
       "      <td>1123.json</td>\n",
       "      <td>false</td>\n",
       "      <td>Health care reform legislation is likely to ma...</td>\n",
       "      <td>health-care</td>\n",
       "      <td>blog-posting</td>\n",
       "      <td>NaN</td>\n",
       "      <td>NaN</td>\n",
       "      <td>none</td>\n",
       "      <td>7</td>\n",
       "      <td>19</td>\n",
       "      <td>3</td>\n",
       "      <td>5</td>\n",
       "      <td>44</td>\n",
       "      <td>a news release</td>\n",
       "    </tr>\n",
       "    <tr>\n",
       "      <th>4</th>\n",
       "      <td>9028.json</td>\n",
       "      <td>half-true</td>\n",
       "      <td>The economic turnaround started at the end of ...</td>\n",
       "      <td>economy,jobs</td>\n",
       "      <td>charlie-crist</td>\n",
       "      <td>NaN</td>\n",
       "      <td>Florida</td>\n",
       "      <td>democrat</td>\n",
       "      <td>15</td>\n",
       "      <td>9</td>\n",
       "      <td>20</td>\n",
       "      <td>19</td>\n",
       "      <td>2</td>\n",
       "      <td>an interview on CNN</td>\n",
       "    </tr>\n",
       "  </tbody>\n",
       "</table>\n",
       "</div>"
      ],
      "text/plain": [
       "           0            1                                                  2   \\\n",
       "0   2635.json        false  Says the Annies List political group supports ...   \n",
       "1  10540.json    half-true  When did the decline of coal start? It started...   \n",
       "2    324.json  mostly-true  Hillary Clinton agrees with John McCain \"by vo...   \n",
       "3   1123.json        false  Health care reform legislation is likely to ma...   \n",
       "4   9028.json    half-true  The economic turnaround started at the end of ...   \n",
       "\n",
       "                                   3               4                     5   \\\n",
       "0                            abortion    dwayne-bohac  State representative   \n",
       "1  energy,history,job-accomplishments  scott-surovell        State delegate   \n",
       "2                      foreign-policy    barack-obama             President   \n",
       "3                         health-care    blog-posting                   NaN   \n",
       "4                        economy,jobs   charlie-crist                   NaN   \n",
       "\n",
       "         6           7   8   9    10   11  12                   13  \n",
       "0     Texas  republican   0   1    0    0   0             a mailer  \n",
       "1  Virginia    democrat   0   0    1    1   0      a floor speech.  \n",
       "2  Illinois    democrat  70  71  160  163   9               Denver  \n",
       "3       NaN        none   7  19    3    5  44       a news release  \n",
       "4   Florida    democrat  15   9   20   19   2  an interview on CNN  "
      ]
     },
     "execution_count": 5,
     "metadata": {},
     "output_type": "execute_result"
    }
   ],
   "source": [
    "df.head()"
   ]
  },
  {
   "cell_type": "code",
   "execution_count": null,
   "id": "50e6090c",
   "metadata": {},
   "outputs": [
    {
     "data": {
      "text/html": [
       "<div>\n",
       "<style scoped>\n",
       "    .dataframe tbody tr th:only-of-type {\n",
       "        vertical-align: middle;\n",
       "    }\n",
       "\n",
       "    .dataframe tbody tr th {\n",
       "        vertical-align: top;\n",
       "    }\n",
       "\n",
       "    .dataframe thead th {\n",
       "        text-align: right;\n",
       "    }\n",
       "</style>\n",
       "<table border=\"1\" class=\"dataframe\">\n",
       "  <thead>\n",
       "    <tr style=\"text-align: right;\">\n",
       "      <th></th>\n",
       "      <th>index</th>\n",
       "      <th>0</th>\n",
       "      <th>1</th>\n",
       "      <th>2</th>\n",
       "      <th>3</th>\n",
       "      <th>4</th>\n",
       "      <th>5</th>\n",
       "      <th>6</th>\n",
       "      <th>7</th>\n",
       "      <th>8</th>\n",
       "      <th>9</th>\n",
       "      <th>10</th>\n",
       "      <th>11</th>\n",
       "      <th>12</th>\n",
       "      <th>13</th>\n",
       "    </tr>\n",
       "  </thead>\n",
       "  <tbody>\n",
       "    <tr>\n",
       "      <th>0</th>\n",
       "      <td>1708</td>\n",
       "      <td>9804.json</td>\n",
       "      <td>half-true</td>\n",
       "      <td>Says Iowa Republican Senate candidate Joni Ern...</td>\n",
       "      <td>message-machine-2014,retirement,social-securit...</td>\n",
       "      <td>democratic-senatorial-campaign-committee</td>\n",
       "      <td>NaN</td>\n",
       "      <td>NaN</td>\n",
       "      <td>democrat</td>\n",
       "      <td>1</td>\n",
       "      <td>2</td>\n",
       "      <td>3</td>\n",
       "      <td>1</td>\n",
       "      <td>0</td>\n",
       "      <td>a campaign ad</td>\n",
       "    </tr>\n",
       "    <tr>\n",
       "      <th>1</th>\n",
       "      <td>9815</td>\n",
       "      <td>8646.json</td>\n",
       "      <td>half-true</td>\n",
       "      <td>The CBO just said if we cut this (unemployment...</td>\n",
       "      <td>economy,jobs</td>\n",
       "      <td>david-madland</td>\n",
       "      <td>Director, American Worker Project</td>\n",
       "      <td>NaN</td>\n",
       "      <td>none</td>\n",
       "      <td>0</td>\n",
       "      <td>0</td>\n",
       "      <td>1</td>\n",
       "      <td>0</td>\n",
       "      <td>0</td>\n",
       "      <td>a broadcast of CNN's \"Crossfire\"</td>\n",
       "    </tr>\n",
       "  </tbody>\n",
       "</table>\n",
       "</div>"
      ],
      "text/plain": [
       "   index          0          1  \\\n",
       "0   1708  9804.json  half-true   \n",
       "1   9815  8646.json  half-true   \n",
       "\n",
       "                                                   2  \\\n",
       "0  Says Iowa Republican Senate candidate Joni Ern...   \n",
       "1  The CBO just said if we cut this (unemployment...   \n",
       "\n",
       "                                                   3  \\\n",
       "0  message-machine-2014,retirement,social-securit...   \n",
       "1                                       economy,jobs   \n",
       "\n",
       "                                          4  \\\n",
       "0  democratic-senatorial-campaign-committee   \n",
       "1                             david-madland   \n",
       "\n",
       "                                   5    6         7  8  9  10  11  12  \\\n",
       "0                                NaN  NaN  democrat  1  2   3   1   0   \n",
       "1  Director, American Worker Project  NaN      none  0  0   1   0   0   \n",
       "\n",
       "                                 13  \n",
       "0                     a campaign ad  \n",
       "1  a broadcast of CNN's \"Crossfire\"  "
      ]
     },
     "execution_count": 6,
     "metadata": {},
     "output_type": "execute_result"
    }
   ],
   "source": [
    "df_raw = pd.concat([train, test, valid], axis=0, sort=False)\n",
    "df_raw = df_raw.sample(frac=1).reset_index()\n",
    "df_raw.head(2)"
   ]
  },
  {
   "cell_type": "code",
   "execution_count": null,
   "id": "ccda0c00",
   "metadata": {},
   "outputs": [],
   "source": [
    "df_raw.columns=[\"index\",\"ID\", \"label\", \"statement\", \"subject\", \"speaker\", \"job\", \"state\", \"party\", \"barely_true_cts\",\n",
    "        \"false_cts\", \"half_true_cts\", \"mostly_true_cts\", \"pants_on_fire_cts\", \"context\"]"
   ]
  },
  {
   "cell_type": "code",
   "execution_count": null,
   "id": "9ac95fee",
   "metadata": {},
   "outputs": [
    {
     "data": {
      "text/html": [
       "<div>\n",
       "<style scoped>\n",
       "    .dataframe tbody tr th:only-of-type {\n",
       "        vertical-align: middle;\n",
       "    }\n",
       "\n",
       "    .dataframe tbody tr th {\n",
       "        vertical-align: top;\n",
       "    }\n",
       "\n",
       "    .dataframe thead th {\n",
       "        text-align: right;\n",
       "    }\n",
       "</style>\n",
       "<table border=\"1\" class=\"dataframe\">\n",
       "  <thead>\n",
       "    <tr style=\"text-align: right;\">\n",
       "      <th></th>\n",
       "      <th>index</th>\n",
       "      <th>ID</th>\n",
       "      <th>label</th>\n",
       "      <th>statement</th>\n",
       "      <th>subject</th>\n",
       "      <th>speaker</th>\n",
       "      <th>job</th>\n",
       "      <th>state</th>\n",
       "      <th>party</th>\n",
       "      <th>barely_true_cts</th>\n",
       "      <th>false_cts</th>\n",
       "      <th>half_true_cts</th>\n",
       "      <th>mostly_true_cts</th>\n",
       "      <th>pants_on_fire_cts</th>\n",
       "      <th>context</th>\n",
       "    </tr>\n",
       "  </thead>\n",
       "  <tbody>\n",
       "    <tr>\n",
       "      <th>0</th>\n",
       "      <td>1708</td>\n",
       "      <td>9804.json</td>\n",
       "      <td>half-true</td>\n",
       "      <td>Says Iowa Republican Senate candidate Joni Ern...</td>\n",
       "      <td>message-machine-2014,retirement,social-securit...</td>\n",
       "      <td>democratic-senatorial-campaign-committee</td>\n",
       "      <td>NaN</td>\n",
       "      <td>NaN</td>\n",
       "      <td>democrat</td>\n",
       "      <td>1</td>\n",
       "      <td>2</td>\n",
       "      <td>3</td>\n",
       "      <td>1</td>\n",
       "      <td>0</td>\n",
       "      <td>a campaign ad</td>\n",
       "    </tr>\n",
       "    <tr>\n",
       "      <th>1</th>\n",
       "      <td>9815</td>\n",
       "      <td>8646.json</td>\n",
       "      <td>half-true</td>\n",
       "      <td>The CBO just said if we cut this (unemployment...</td>\n",
       "      <td>economy,jobs</td>\n",
       "      <td>david-madland</td>\n",
       "      <td>Director, American Worker Project</td>\n",
       "      <td>NaN</td>\n",
       "      <td>none</td>\n",
       "      <td>0</td>\n",
       "      <td>0</td>\n",
       "      <td>1</td>\n",
       "      <td>0</td>\n",
       "      <td>0</td>\n",
       "      <td>a broadcast of CNN's \"Crossfire\"</td>\n",
       "    </tr>\n",
       "    <tr>\n",
       "      <th>2</th>\n",
       "      <td>8899</td>\n",
       "      <td>5357.json</td>\n",
       "      <td>pants-fire</td>\n",
       "      <td>The U.S. Census believes that by 2030 the majo...</td>\n",
       "      <td>census,immigration,pop-culture</td>\n",
       "      <td>glee</td>\n",
       "      <td>NaN</td>\n",
       "      <td>NaN</td>\n",
       "      <td>none</td>\n",
       "      <td>0</td>\n",
       "      <td>0</td>\n",
       "      <td>0</td>\n",
       "      <td>0</td>\n",
       "      <td>1</td>\n",
       "      <td>an episode on TV</td>\n",
       "    </tr>\n",
       "    <tr>\n",
       "      <th>3</th>\n",
       "      <td>5062</td>\n",
       "      <td>9362.json</td>\n",
       "      <td>barely-true</td>\n",
       "      <td>Walmart employees receive roughly $5,800 in pu...</td>\n",
       "      <td>welfare,workers</td>\n",
       "      <td>ed-schultz</td>\n",
       "      <td>MSNBC television host</td>\n",
       "      <td>NaN</td>\n",
       "      <td>none</td>\n",
       "      <td>3</td>\n",
       "      <td>1</td>\n",
       "      <td>4</td>\n",
       "      <td>1</td>\n",
       "      <td>2</td>\n",
       "      <td>a segment on \"The Ed Show\"</td>\n",
       "    </tr>\n",
       "    <tr>\n",
       "      <th>4</th>\n",
       "      <td>10230</td>\n",
       "      <td>12290.json</td>\n",
       "      <td>mostly-true</td>\n",
       "      <td>Over the past two years, Florida has cut more ...</td>\n",
       "      <td>taxes</td>\n",
       "      <td>rick-scott</td>\n",
       "      <td>Governor</td>\n",
       "      <td>Florida</td>\n",
       "      <td>republican</td>\n",
       "      <td>28</td>\n",
       "      <td>23</td>\n",
       "      <td>38</td>\n",
       "      <td>34</td>\n",
       "      <td>7</td>\n",
       "      <td>a press release</td>\n",
       "    </tr>\n",
       "  </tbody>\n",
       "</table>\n",
       "</div>"
      ],
      "text/plain": [
       "   index          ID        label  \\\n",
       "0   1708   9804.json    half-true   \n",
       "1   9815   8646.json    half-true   \n",
       "2   8899   5357.json   pants-fire   \n",
       "3   5062   9362.json  barely-true   \n",
       "4  10230  12290.json  mostly-true   \n",
       "\n",
       "                                           statement  \\\n",
       "0  Says Iowa Republican Senate candidate Joni Ern...   \n",
       "1  The CBO just said if we cut this (unemployment...   \n",
       "2  The U.S. Census believes that by 2030 the majo...   \n",
       "3  Walmart employees receive roughly $5,800 in pu...   \n",
       "4  Over the past two years, Florida has cut more ...   \n",
       "\n",
       "                                             subject  \\\n",
       "0  message-machine-2014,retirement,social-securit...   \n",
       "1                                       economy,jobs   \n",
       "2                     census,immigration,pop-culture   \n",
       "3                                    welfare,workers   \n",
       "4                                              taxes   \n",
       "\n",
       "                                    speaker  \\\n",
       "0  democratic-senatorial-campaign-committee   \n",
       "1                             david-madland   \n",
       "2                                      glee   \n",
       "3                                ed-schultz   \n",
       "4                                rick-scott   \n",
       "\n",
       "                                 job    state       party  barely_true_cts  \\\n",
       "0                                NaN      NaN    democrat                1   \n",
       "1  Director, American Worker Project      NaN        none                0   \n",
       "2                                NaN      NaN        none                0   \n",
       "3              MSNBC television host      NaN        none                3   \n",
       "4                           Governor  Florida  republican               28   \n",
       "\n",
       "   false_cts  half_true_cts  mostly_true_cts  pants_on_fire_cts  \\\n",
       "0          2              3                1                  0   \n",
       "1          0              1                0                  0   \n",
       "2          0              0                0                  1   \n",
       "3          1              4                1                  2   \n",
       "4         23             38               34                  7   \n",
       "\n",
       "                            context  \n",
       "0                     a campaign ad  \n",
       "1  a broadcast of CNN's \"Crossfire\"  \n",
       "2                  an episode on TV  \n",
       "3        a segment on \"The Ed Show\"  \n",
       "4                   a press release  "
      ]
     },
     "execution_count": 8,
     "metadata": {},
     "output_type": "execute_result"
    }
   ],
   "source": [
    "df_raw.head(5)"
   ]
  },
  {
   "cell_type": "code",
   "execution_count": null,
   "id": "d5fdcdea",
   "metadata": {},
   "outputs": [
    {
     "data": {
      "text/plain": [
       "Text(0.5, 1.0, 'Types & Number of Classes in the dataset')"
      ]
     },
     "execution_count": 13,
     "metadata": {},
     "output_type": "execute_result"
    },
    {
     "data": {
      "image/png": "[encoded data removed]",
      "text/plain": [
       "<Figure size 432x288 with 1 Axes>"
      ]
     },
     "metadata": {
      "needs_background": "light"
     },
     "output_type": "display_data"
    }
   ],
   "source": [
    "sns.countplot(x='label',data=df_raw)\n",
    "plt.title('Types & Number of Classes in the dataset')"
   ]
  },
  {
   "cell_type": "markdown",
   "id": "8701a17b",
   "metadata": {},
   "source": [
    "# Using CountVectorizer for Extracting features from 'statements'"
   ]
  },
  {
   "cell_type": "code",
   "execution_count": null,
   "id": "c846ef05",
   "metadata": {},
   "outputs": [],
   "source": [
    "# specifying features and labels\n",
    "x= df_raw['statement']\n",
    "y=df_raw['label']"
   ]
  },
  {
   "cell_type": "code",
   "execution_count": null,
   "id": "34488216",
   "metadata": {},
   "outputs": [
    {
     "data": {
      "text/plain": [
       "0    Says Iowa Republican Senate candidate Joni Ern...\n",
       "1    The CBO just said if we cut this (unemployment...\n",
       "2    The U.S. Census believes that by 2030 the majo...\n",
       "3    Walmart employees receive roughly $5,800 in pu...\n",
       "4    Over the past two years, Florida has cut more ...\n",
       "Name: statement, dtype: object"
      ]
     },
     "execution_count": 28,
     "metadata": {},
     "output_type": "execute_result"
    }
   ],
   "source": [
    "x.head(5)"
   ]
  },
  {
   "cell_type": "code",
   "execution_count": null,
   "id": "d24418dc",
   "metadata": {},
   "outputs": [
    {
     "data": {
      "text/plain": [
       "0      half-true\n",
       "1      half-true\n",
       "2     pants-fire\n",
       "3    barely-true\n",
       "4    mostly-true\n",
       "Name: label, dtype: object"
      ]
     },
     "execution_count": 29,
     "metadata": {},
     "output_type": "execute_result"
    }
   ],
   "source": [
    "y.head(5)"
   ]
  },
  {
   "cell_type": "code",
   "execution_count": null,
   "id": "9b0ef185",
   "metadata": {},
   "outputs": [
    {
     "data": {
      "text/plain": [
       "(12836, 15)"
      ]
     },
     "execution_count": 30,
     "metadata": {},
     "output_type": "execute_result"
    }
   ],
   "source": [
    "df_raw.shape"
   ]
  },
  {
   "cell_type": "code",
   "execution_count": null,
   "id": "468d28a1",
   "metadata": {},
   "outputs": [
    {
     "name": "stdout",
     "output_type": "stream",
     "text": [
      "10268 2568\n",
      "10268 2568\n"
     ]
    }
   ],
   "source": [
    "# specifying train and test split with ratio of 80:20\n",
    "\n",
    "from sklearn.model_selection import train_test_split\n",
    "\n",
    "x_train, x_test, y_train, y_test = train_test_split(x,y, test_size=0.2, random_state = 0, stratify=y)\n",
    "print(len(x_train), len(x_test))\n",
    "print(len(y_train), len(y_test))"
   ]
  },
  {
   "cell_type": "code",
   "execution_count": null,
   "id": "45f0b70d",
   "metadata": {},
   "outputs": [],
   "source": [
    "from sklearn.feature_extraction.text import CountVectorizer, TfidfVectorizer, HashingVectorizer"
   ]
  },
  {
   "cell_type": "code",
   "execution_count": null,
   "id": "c4bd5b8c",
   "metadata": {},
   "outputs": [],
   "source": [
    "df=df_raw.dropna()"
   ]
  },
  {
   "cell_type": "code",
   "execution_count": null,
   "id": "be8f6903",
   "metadata": {},
   "outputs": [
    {
     "data": {
      "text/html": [
       "<div>\n",
       "<style scoped>\n",
       "    .dataframe tbody tr th:only-of-type {\n",
       "        vertical-align: middle;\n",
       "    }\n",
       "\n",
       "    .dataframe tbody tr th {\n",
       "        vertical-align: top;\n",
       "    }\n",
       "\n",
       "    .dataframe thead th {\n",
       "        text-align: right;\n",
       "    }\n",
       "</style>\n",
       "<table border=\"1\" class=\"dataframe\">\n",
       "  <thead>\n",
       "    <tr style=\"text-align: right;\">\n",
       "      <th></th>\n",
       "      <th>index</th>\n",
       "      <th>ID</th>\n",
       "      <th>label</th>\n",
       "      <th>statement</th>\n",
       "      <th>subject</th>\n",
       "      <th>speaker</th>\n",
       "      <th>job</th>\n",
       "      <th>state</th>\n",
       "      <th>party</th>\n",
       "      <th>barely_true_cts</th>\n",
       "      <th>false_cts</th>\n",
       "      <th>half_true_cts</th>\n",
       "      <th>mostly_true_cts</th>\n",
       "      <th>pants_on_fire_cts</th>\n",
       "      <th>context</th>\n",
       "    </tr>\n",
       "  </thead>\n",
       "  <tbody>\n",
       "    <tr>\n",
       "      <th>4</th>\n",
       "      <td>10230</td>\n",
       "      <td>12290.json</td>\n",
       "      <td>mostly-true</td>\n",
       "      <td>Over the past two years, Florida has cut more ...</td>\n",
       "      <td>taxes</td>\n",
       "      <td>rick-scott</td>\n",
       "      <td>Governor</td>\n",
       "      <td>Florida</td>\n",
       "      <td>republican</td>\n",
       "      <td>28</td>\n",
       "      <td>23</td>\n",
       "      <td>38</td>\n",
       "      <td>34</td>\n",
       "      <td>7</td>\n",
       "      <td>a press release</td>\n",
       "    </tr>\n",
       "    <tr>\n",
       "      <th>5</th>\n",
       "      <td>987</td>\n",
       "      <td>11761.json</td>\n",
       "      <td>true</td>\n",
       "      <td>Says Marco Rubio knows full well I voted for h...</td>\n",
       "      <td>federal-budget,military,voting-record</td>\n",
       "      <td>ted-cruz</td>\n",
       "      <td>Senator</td>\n",
       "      <td>Texas</td>\n",
       "      <td>republican</td>\n",
       "      <td>36</td>\n",
       "      <td>33</td>\n",
       "      <td>15</td>\n",
       "      <td>19</td>\n",
       "      <td>8</td>\n",
       "      <td>a Republican presidential debate in North Char...</td>\n",
       "    </tr>\n",
       "    <tr>\n",
       "      <th>6</th>\n",
       "      <td>2812</td>\n",
       "      <td>8688.json</td>\n",
       "      <td>barely-true</td>\n",
       "      <td>The Murray-Ryan deal is the first divided-gove...</td>\n",
       "      <td>congress,federal-budget</td>\n",
       "      <td>paul-ryan</td>\n",
       "      <td>U.S. Representative</td>\n",
       "      <td>Wisconsin</td>\n",
       "      <td>republican</td>\n",
       "      <td>19</td>\n",
       "      <td>6</td>\n",
       "      <td>16</td>\n",
       "      <td>14</td>\n",
       "      <td>2</td>\n",
       "      <td>a press conference</td>\n",
       "    </tr>\n",
       "    <tr>\n",
       "      <th>8</th>\n",
       "      <td>5565</td>\n",
       "      <td>8373.json</td>\n",
       "      <td>half-true</td>\n",
       "      <td>Says her actions as Wisconsin commerce secreta...</td>\n",
       "      <td>job-accomplishments,jobs</td>\n",
       "      <td>mary-burke</td>\n",
       "      <td>Madison school board member</td>\n",
       "      <td>Wisconsin</td>\n",
       "      <td>democrat</td>\n",
       "      <td>5</td>\n",
       "      <td>5</td>\n",
       "      <td>11</td>\n",
       "      <td>8</td>\n",
       "      <td>3</td>\n",
       "      <td>a video</td>\n",
       "    </tr>\n",
       "    <tr>\n",
       "      <th>10</th>\n",
       "      <td>6003</td>\n",
       "      <td>11644.json</td>\n",
       "      <td>barely-true</td>\n",
       "      <td>Ted Cruz tried to ban contraception five times.</td>\n",
       "      <td>abortion,health-care</td>\n",
       "      <td>hillary-clinton</td>\n",
       "      <td>Presidential candidate</td>\n",
       "      <td>New York</td>\n",
       "      <td>democrat</td>\n",
       "      <td>40</td>\n",
       "      <td>29</td>\n",
       "      <td>69</td>\n",
       "      <td>76</td>\n",
       "      <td>7</td>\n",
       "      <td>a post on her campaign website</td>\n",
       "    </tr>\n",
       "  </tbody>\n",
       "</table>\n",
       "</div>"
      ],
      "text/plain": [
       "    index          ID        label  \\\n",
       "4   10230  12290.json  mostly-true   \n",
       "5     987  11761.json         true   \n",
       "6    2812   8688.json  barely-true   \n",
       "8    5565   8373.json    half-true   \n",
       "10   6003  11644.json  barely-true   \n",
       "\n",
       "                                            statement  \\\n",
       "4   Over the past two years, Florida has cut more ...   \n",
       "5   Says Marco Rubio knows full well I voted for h...   \n",
       "6   The Murray-Ryan deal is the first divided-gove...   \n",
       "8   Says her actions as Wisconsin commerce secreta...   \n",
       "10    Ted Cruz tried to ban contraception five times.   \n",
       "\n",
       "                                  subject          speaker  \\\n",
       "4                                   taxes       rick-scott   \n",
       "5   federal-budget,military,voting-record         ted-cruz   \n",
       "6                 congress,federal-budget        paul-ryan   \n",
       "8                job-accomplishments,jobs       mary-burke   \n",
       "10                   abortion,health-care  hillary-clinton   \n",
       "\n",
       "                            job      state       party  barely_true_cts  \\\n",
       "4                      Governor    Florida  republican               28   \n",
       "5                       Senator      Texas  republican               36   \n",
       "6           U.S. Representative  Wisconsin  republican               19   \n",
       "8   Madison school board member  Wisconsin    democrat                5   \n",
       "10       Presidential candidate   New York    democrat               40   \n",
       "\n",
       "    false_cts  half_true_cts  mostly_true_cts  pants_on_fire_cts  \\\n",
       "4          23             38               34                  7   \n",
       "5          33             15               19                  8   \n",
       "6           6             16               14                  2   \n",
       "8           5             11                8                  3   \n",
       "10         29             69               76                  7   \n",
       "\n",
       "                                              context  \n",
       "4                                     a press release  \n",
       "5   a Republican presidential debate in North Char...  \n",
       "6                                  a press conference  \n",
       "8                                             a video  \n",
       "10                     a post on her campaign website  "
      ]
     },
     "execution_count": 36,
     "metadata": {},
     "output_type": "execute_result"
    }
   ],
   "source": [
    "df.head(5)"
   ]
  },
  {
   "cell_type": "code",
   "execution_count": null,
   "id": "0fae91cf",
   "metadata": {},
   "outputs": [
    {
     "data": {
      "text/html": [
       "<div>\n",
       "<style scoped>\n",
       "    .dataframe tbody tr th:only-of-type {\n",
       "        vertical-align: middle;\n",
       "    }\n",
       "\n",
       "    .dataframe tbody tr th {\n",
       "        vertical-align: top;\n",
       "    }\n",
       "\n",
       "    .dataframe thead th {\n",
       "        text-align: right;\n",
       "    }\n",
       "</style>\n",
       "<table border=\"1\" class=\"dataframe\">\n",
       "  <thead>\n",
       "    <tr style=\"text-align: right;\">\n",
       "      <th></th>\n",
       "      <th>level_0</th>\n",
       "      <th>index</th>\n",
       "      <th>ID</th>\n",
       "      <th>label</th>\n",
       "      <th>statement</th>\n",
       "      <th>subject</th>\n",
       "      <th>speaker</th>\n",
       "      <th>job</th>\n",
       "      <th>state</th>\n",
       "      <th>party</th>\n",
       "      <th>barely_true_cts</th>\n",
       "      <th>false_cts</th>\n",
       "      <th>half_true_cts</th>\n",
       "      <th>mostly_true_cts</th>\n",
       "      <th>pants_on_fire_cts</th>\n",
       "      <th>context</th>\n",
       "    </tr>\n",
       "  </thead>\n",
       "  <tbody>\n",
       "    <tr>\n",
       "      <th>0</th>\n",
       "      <td>4</td>\n",
       "      <td>10230</td>\n",
       "      <td>12290.json</td>\n",
       "      <td>mostly-true</td>\n",
       "      <td>Over the past two years, Florida has cut more ...</td>\n",
       "      <td>taxes</td>\n",
       "      <td>rick-scott</td>\n",
       "      <td>Governor</td>\n",
       "      <td>Florida</td>\n",
       "      <td>republican</td>\n",
       "      <td>28</td>\n",
       "      <td>23</td>\n",
       "      <td>38</td>\n",
       "      <td>34</td>\n",
       "      <td>7</td>\n",
       "      <td>a press release</td>\n",
       "    </tr>\n",
       "    <tr>\n",
       "      <th>1</th>\n",
       "      <td>5</td>\n",
       "      <td>987</td>\n",
       "      <td>11761.json</td>\n",
       "      <td>true</td>\n",
       "      <td>Says Marco Rubio knows full well I voted for h...</td>\n",
       "      <td>federal-budget,military,voting-record</td>\n",
       "      <td>ted-cruz</td>\n",
       "      <td>Senator</td>\n",
       "      <td>Texas</td>\n",
       "      <td>republican</td>\n",
       "      <td>36</td>\n",
       "      <td>33</td>\n",
       "      <td>15</td>\n",
       "      <td>19</td>\n",
       "      <td>8</td>\n",
       "      <td>a Republican presidential debate in North Char...</td>\n",
       "    </tr>\n",
       "    <tr>\n",
       "      <th>2</th>\n",
       "      <td>6</td>\n",
       "      <td>2812</td>\n",
       "      <td>8688.json</td>\n",
       "      <td>barely-true</td>\n",
       "      <td>The Murray-Ryan deal is the first divided-gove...</td>\n",
       "      <td>congress,federal-budget</td>\n",
       "      <td>paul-ryan</td>\n",
       "      <td>U.S. Representative</td>\n",
       "      <td>Wisconsin</td>\n",
       "      <td>republican</td>\n",
       "      <td>19</td>\n",
       "      <td>6</td>\n",
       "      <td>16</td>\n",
       "      <td>14</td>\n",
       "      <td>2</td>\n",
       "      <td>a press conference</td>\n",
       "    </tr>\n",
       "    <tr>\n",
       "      <th>3</th>\n",
       "      <td>8</td>\n",
       "      <td>5565</td>\n",
       "      <td>8373.json</td>\n",
       "      <td>half-true</td>\n",
       "      <td>Says her actions as Wisconsin commerce secreta...</td>\n",
       "      <td>job-accomplishments,jobs</td>\n",
       "      <td>mary-burke</td>\n",
       "      <td>Madison school board member</td>\n",
       "      <td>Wisconsin</td>\n",
       "      <td>democrat</td>\n",
       "      <td>5</td>\n",
       "      <td>5</td>\n",
       "      <td>11</td>\n",
       "      <td>8</td>\n",
       "      <td>3</td>\n",
       "      <td>a video</td>\n",
       "    </tr>\n",
       "    <tr>\n",
       "      <th>4</th>\n",
       "      <td>10</td>\n",
       "      <td>6003</td>\n",
       "      <td>11644.json</td>\n",
       "      <td>barely-true</td>\n",
       "      <td>Ted Cruz tried to ban contraception five times.</td>\n",
       "      <td>abortion,health-care</td>\n",
       "      <td>hillary-clinton</td>\n",
       "      <td>Presidential candidate</td>\n",
       "      <td>New York</td>\n",
       "      <td>democrat</td>\n",
       "      <td>40</td>\n",
       "      <td>29</td>\n",
       "      <td>69</td>\n",
       "      <td>76</td>\n",
       "      <td>7</td>\n",
       "      <td>a post on her campaign website</td>\n",
       "    </tr>\n",
       "  </tbody>\n",
       "</table>\n",
       "</div>"
      ],
      "text/plain": [
       "   level_0  index          ID        label  \\\n",
       "0        4  10230  12290.json  mostly-true   \n",
       "1        5    987  11761.json         true   \n",
       "2        6   2812   8688.json  barely-true   \n",
       "3        8   5565   8373.json    half-true   \n",
       "4       10   6003  11644.json  barely-true   \n",
       "\n",
       "                                           statement  \\\n",
       "0  Over the past two years, Florida has cut more ...   \n",
       "1  Says Marco Rubio knows full well I voted for h...   \n",
       "2  The Murray-Ryan deal is the first divided-gove...   \n",
       "3  Says her actions as Wisconsin commerce secreta...   \n",
       "4    Ted Cruz tried to ban contraception five times.   \n",
       "\n",
       "                                 subject          speaker  \\\n",
       "0                                  taxes       rick-scott   \n",
       "1  federal-budget,military,voting-record         ted-cruz   \n",
       "2                congress,federal-budget        paul-ryan   \n",
       "3               job-accomplishments,jobs       mary-burke   \n",
       "4                   abortion,health-care  hillary-clinton   \n",
       "\n",
       "                           job      state       party  barely_true_cts  \\\n",
       "0                     Governor    Florida  republican               28   \n",
       "1                      Senator      Texas  republican               36   \n",
       "2          U.S. Representative  Wisconsin  republican               19   \n",
       "3  Madison school board member  Wisconsin    democrat                5   \n",
       "4       Presidential candidate   New York    democrat               40   \n",
       "\n",
       "   false_cts  half_true_cts  mostly_true_cts  pants_on_fire_cts  \\\n",
       "0         23             38               34                  7   \n",
       "1         33             15               19                  8   \n",
       "2          6             16               14                  2   \n",
       "3          5             11                8                  3   \n",
       "4         29             69               76                  7   \n",
       "\n",
       "                                             context  \n",
       "0                                    a press release  \n",
       "1  a Republican presidential debate in North Char...  \n",
       "2                                 a press conference  \n",
       "3                                            a video  \n",
       "4                     a post on her campaign website  "
      ]
     },
     "execution_count": 37,
     "metadata": {},
     "output_type": "execute_result"
    }
   ],
   "source": [
    "messages=df.copy()\n",
    "messages.reset_index(inplace=True)\n",
    "messages.head(5)"
   ]
  },
  {
   "cell_type": "markdown",
   "id": "5c021be0",
   "metadata": {},
   "source": [
    "# Custom Pre - Processing and Tokenisation of the data"
   ]
  },
  {
   "cell_type": "code",
   "execution_count": null,
   "id": "fb847d46",
   "metadata": {},
   "outputs": [
    {
     "data": {
      "text/plain": [
       "' function for decontracting the statements'"
      ]
     },
     "execution_count": 39,
     "metadata": {},
     "output_type": "execute_result"
    }
   ],
   "source": [
    "from nltk.stem import SnowballStemmer\n",
    "from nltk.stem.porter import PorterStemmer\n",
    "from nltk.tokenize import word_tokenize\n",
    "from nltk.corpus import stopwords\n",
    "from collections import defaultdict\n",
    "from nltk.corpus import wordnet as wn\n",
    "from nltk.stem import WordNetLemmatizer\n",
    "from nltk.tokenize import word_tokenize\n",
    "from nltk import pos_tag\n",
    "#nltk.download('stopwords')\n",
    "\n",
    "\n",
    "\"\"\" Regular expression for cleaning the statements\"\"\"\n",
    "\n",
    "hashtag_re = re.compile(r\"#\\w+\")\n",
    "mention_re = re.compile(r\"@\\w+\")\n",
    "url_re = re.compile(r\"(?:https?://)?(?:[-\\w]+\\.)+[a-zA-Z]{2,9}[-\\w/#~:;.?+=&%@~]*\")\n",
    "extras_re = re.compile(\"[.;:!\\'?,\\\"()\\[\\]]\")\n",
    "#apos_re = \"\\'[a-z]*\"\n",
    "#leftover_re = \"\\S+\"\n",
    "\n",
    "\"\"\" Preprocessing the text in the statements\"\"\"\n",
    "def preprocess(text):\n",
    "    p_text = hashtag_re.sub(\"[hashtag]\",text)\n",
    "    p_text = mention_re.sub(\"[mention]\",p_text)\n",
    "    p_text = extras_re.sub(\"\",p_text)\n",
    "    p_text = url_re.sub(\"[url]\",p_text)\n",
    "    p_text = ftfy.fix_text(p_text)\n",
    "    return p_text.lower()\n",
    "\n",
    "# regular expression for custom tokenisation\"\n",
    "tokenise_re = re.compile(r\"(\\[[^\\]]+\\]|[-'\\w]+|[^\\s\\w\\[']+)\") #([]|words|other non-space)\n",
    "\n",
    "# defining 3 types of tokenisation\n",
    "\n",
    "def custom_tokenise(text):\n",
    "    return tokenise_re.findall(text.lower())\n",
    "\n",
    "def Tokenizer(str_input):\n",
    "    words = re.sub(r\"[^A-Za-z0-9\\-]\", \" \", str_input).lower().split()\n",
    "    porter_stemmer=nltk.PorterStemmer()\n",
    "    words = [porter_stemmer.stem(word) for word in words]\n",
    "    return words\n",
    "\n",
    "\n",
    "def nltk_twitter_tokenise(text):\n",
    "    twtok = nltk.tokenize.TweetTokenizer()\n",
    "    return twtok.tokenize(text.lower())\n",
    "\n",
    "# stop words list set to english\n",
    "stopwords_list = stopwords.words('english') # stop word list\n",
    "\n",
    "\"\"\" function for decontracting the statements\"\"\"\n",
    "#def decontracted(phrase):\n",
    "   # phrase = re.sub(r\"won\\'t\", \"will not\", phrase)\n",
    "   # phrase = re.sub(r\"can\\'t\", \"can not\", phrase)\n",
    "   # phrase = re.sub(r\"n\\'t\", \" not\", phrase)\n",
    "   # phrase = re.sub(r\"\\'re\", \" are\", phrase)\n",
    "   # phrase = re.sub(r\"\\'s\", \" is\", phrase)\n",
    "   # phrase = re.sub(r\"\\'d\", \" would\", phrase)\n",
    "    #phrase = re.sub(r\"\\'ll\", \" will\", phrase)\n",
    "    #phrase = re.sub(r\"\\'t\", \" not\", phrase)\n",
    "    #phrase = re.sub(r\"\\'ve\", \" have\", phrase)\n",
    "   # phrase = re.sub(r\"\\'m\", \" am\", phrase)\n",
    "    #return phrase"
   ]
  },
  {
   "cell_type": "markdown",
   "id": "6168956e",
   "metadata": {},
   "source": [
    "# Defining custom functions for displaying results of Classification"
   ]
  },
  {
   "cell_type": "code",
   "execution_count": null,
   "id": "415c573e",
   "metadata": {},
   "outputs": [
    {
     "name": "stdout",
     "output_type": "stream",
     "text": [
      "Collecting xgboost\n",
      "  Downloading xgboost-1.5.2-py3-none-win_amd64.whl (106.6 MB)\n",
      "Requirement already satisfied: scipy in c:\\users\\lenovo\\anaconda3\\lib\\site-packages (from xgboost) (1.7.1)\n",
      "Requirement already satisfied: numpy in c:\\users\\lenovo\\anaconda3\\lib\\site-packages (from xgboost) (1.20.3)\n",
      "Installing collected packages: xgboost\n",
      "Successfully installed xgboost-1.5.2\n"
     ]
    }
   ],
   "source": [
    "from sklearn.feature_extraction.text import CountVectorizer\n",
    "from sklearn.pipeline import Pipeline, FeatureUnion\n",
    "from sklearn.feature_extraction.text import TfidfVectorizer\n",
    "from sklearn.preprocessing import StandardScaler\n",
    "from sklearn.decomposition import TruncatedSVD\n",
    "from sklearn.metrics import accuracy_score, classification_report, confusion_matrix\n",
    "from sklearn.model_selection import cross_validate, StratifiedKFold\n",
    "from sklearn.naive_bayes import GaussianNB\n",
    "\n",
    "from sklearn import tree\n",
    "from sklearn.ensemble import RandomForestClassifier\n",
    "from sklearn import model_selection, naive_bayes, svm\n",
    "from sklearn.feature_extraction.text import TfidfVectorizer\n",
    "from sklearn.preprocessing import LabelEncoder\n",
    "%pip install xgboost\n",
    "from xgboost import XGBClassifier # need to import xboost calssifer\n",
    "\n",
    "from sklearn.model_selection import cross_validate, StratifiedKFold\n",
    "from sklearn.metrics import accuracy_score, classification_report, confusion_matrix\n",
    "from sklearn.model_selection import GridSearchCV\n",
    "from sklearn.feature_extraction.text import TfidfTransformer\n",
    "\n",
    "\n",
    "# function for results of cross-validation\n",
    "def print_cv_scores_summary(name, scores):\n",
    "    print(\"{}: mean = {:.2f}%, sd = {:.2f}%, min = {:.2f}, max = {:.2f}\".format(name, scores.mean()*100, scores.std()*100, scores.min()*100, scores.max()*100))\n",
    "\n",
    "\n",
    "# fucntion for results of model fitting\n",
    "def print_scores():\n",
    "    print(\"Accuracy: \", accuracy_score(y_test, predictions))\n",
    "    print(classification_report(y_test, predictions))\n",
    "    print(confusion_matrix(y_test, predictions))\n",
    "    \n",
    "# function for displaying confusion matrix\n",
    "def confusion_matrix_heatmap(cm, index):\n",
    "    cmdf = pd.DataFrame(cm, index = index, columns=index)\n",
    "    dims = (10, 8)\n",
    "    fig, ax = plt.subplots(figsize=dims)\n",
    "    sns.heatmap(cmdf, annot=True, cmap=\"BuPu\", center=0, fmt='g')\n",
    "    ax.set_ylabel('Actual')    \n",
    "    ax.set_xlabel('Predicted')\n",
    "\n",
    "# function for displaying confusion matrix in percentage terms\n",
    "def confusion_matrix_percent_heatmap(cm, index):\n",
    "    cmdf = pd.DataFrame(cm, index = index, columns=index)\n",
    "    percents = cmdf.div(cmdf.sum(axis=1), axis=0)*100\n",
    "    dims = (10, 10)\n",
    "    fig, ax = plt.subplots(figsize=dims)\n",
    "    sns.heatmap(percents, annot=True, cmap=\"PiYG\", center=0, vmin=0, vmax=100)\n",
    "    ax.set_ylabel('Actual')    \n",
    "    ax.set_xlabel('Predicted')\n",
    "    cbar = ax.collections[0].colorbar\n",
    "    cbar.set_ticks([0, 25, 50, 75, 100])\n",
    "    cbar.set_ticklabels(['0%', '25%', '50%', '75%', '100%'])\n",
    "    \n",
    "#list(df_columns.columns))-list(df_raw['labels'])\"coolwarm\"'Blues'PiYG'BuPu'"
   ]
  },
  {
   "cell_type": "code",
   "execution_count": null,
   "id": "722232b7",
   "metadata": {},
   "outputs": [
    {
     "name": "stdout",
     "output_type": "stream",
     "text": [
      "['zimmerman', 'zip', 'zippo', 'zombie', 'zombies', 'zone', 'zones', 'zoning', 'zuckerberg', 'zuckerbergs']\n",
      "['00', '000', '000new', '02', '033', '036', '04', '05', '050', '054th']\n"
     ]
    }
   ],
   "source": [
    "count_vectorizer = CountVectorizer(stop_words='english')\n",
    "count_train = count_vectorizer.fit_transform(x_train) \n",
    "count_test = count_vectorizer.transform(x_test)\n",
    "\n",
    "\n",
    "tfidf_vectorizer = TfidfVectorizer(stop_words='english', max_df=0.7) \n",
    "tfidf_train = tfidf_vectorizer.fit_transform(x_train) \n",
    "tfidf_test = tfidf_vectorizer.transform(x_test)\n",
    "print(tfidf_vectorizer.get_feature_names()[-10:])\n",
    "print(count_vectorizer.get_feature_names()[:10])"
   ]
  },
  {
   "cell_type": "code",
   "execution_count": null,
   "id": "038a4bfc",
   "metadata": {},
   "outputs": [
    {
     "name": "stdout",
     "output_type": "stream",
     "text": [
      "index                0\n",
      "ID                   0\n",
      "label                0\n",
      "statement            0\n",
      "subject              0\n",
      "speaker              0\n",
      "job                  0\n",
      "state                0\n",
      "party                0\n",
      "barely_true_cts      0\n",
      "false_cts            0\n",
      "half_true_cts        0\n",
      "mostly_true_cts      0\n",
      "pants_on_fire_cts    0\n",
      "context              0\n",
      "dtype: int64\n"
     ]
    }
   ],
   "source": [
    "print(df.isnull().sum())"
   ]
  },
  {
   "cell_type": "code",
   "execution_count": null,
   "id": "f123f9bf",
   "metadata": {},
   "outputs": [
    {
     "data": {
      "text/html": [
       "<div>\n",
       "<style scoped>\n",
       "    .dataframe tbody tr th:only-of-type {\n",
       "        vertical-align: middle;\n",
       "    }\n",
       "\n",
       "    .dataframe tbody tr th {\n",
       "        vertical-align: top;\n",
       "    }\n",
       "\n",
       "    .dataframe thead th {\n",
       "        text-align: right;\n",
       "    }\n",
       "</style>\n",
       "<table border=\"1\" class=\"dataframe\">\n",
       "  <thead>\n",
       "    <tr style=\"text-align: right;\">\n",
       "      <th></th>\n",
       "      <th>00</th>\n",
       "      <th>000</th>\n",
       "      <th>000new</th>\n",
       "      <th>02</th>\n",
       "      <th>033</th>\n",
       "      <th>036</th>\n",
       "      <th>04</th>\n",
       "      <th>05</th>\n",
       "      <th>050</th>\n",
       "      <th>054th</th>\n",
       "      <th>...</th>\n",
       "      <th>zimmerman</th>\n",
       "      <th>zip</th>\n",
       "      <th>zippo</th>\n",
       "      <th>zombie</th>\n",
       "      <th>zombies</th>\n",
       "      <th>zone</th>\n",
       "      <th>zones</th>\n",
       "      <th>zoning</th>\n",
       "      <th>zuckerberg</th>\n",
       "      <th>zuckerbergs</th>\n",
       "    </tr>\n",
       "  </thead>\n",
       "  <tbody>\n",
       "    <tr>\n",
       "      <th>0</th>\n",
       "      <td>0</td>\n",
       "      <td>0</td>\n",
       "      <td>0</td>\n",
       "      <td>0</td>\n",
       "      <td>0</td>\n",
       "      <td>0</td>\n",
       "      <td>0</td>\n",
       "      <td>0</td>\n",
       "      <td>0</td>\n",
       "      <td>0</td>\n",
       "      <td>...</td>\n",
       "      <td>0</td>\n",
       "      <td>0</td>\n",
       "      <td>0</td>\n",
       "      <td>0</td>\n",
       "      <td>0</td>\n",
       "      <td>0</td>\n",
       "      <td>0</td>\n",
       "      <td>0</td>\n",
       "      <td>0</td>\n",
       "      <td>0</td>\n",
       "    </tr>\n",
       "    <tr>\n",
       "      <th>1</th>\n",
       "      <td>0</td>\n",
       "      <td>0</td>\n",
       "      <td>0</td>\n",
       "      <td>0</td>\n",
       "      <td>0</td>\n",
       "      <td>0</td>\n",
       "      <td>0</td>\n",
       "      <td>0</td>\n",
       "      <td>0</td>\n",
       "      <td>0</td>\n",
       "      <td>...</td>\n",
       "      <td>0</td>\n",
       "      <td>0</td>\n",
       "      <td>0</td>\n",
       "      <td>0</td>\n",
       "      <td>0</td>\n",
       "      <td>0</td>\n",
       "      <td>0</td>\n",
       "      <td>0</td>\n",
       "      <td>0</td>\n",
       "      <td>0</td>\n",
       "    </tr>\n",
       "    <tr>\n",
       "      <th>2</th>\n",
       "      <td>0</td>\n",
       "      <td>0</td>\n",
       "      <td>0</td>\n",
       "      <td>0</td>\n",
       "      <td>0</td>\n",
       "      <td>0</td>\n",
       "      <td>0</td>\n",
       "      <td>0</td>\n",
       "      <td>0</td>\n",
       "      <td>0</td>\n",
       "      <td>...</td>\n",
       "      <td>0</td>\n",
       "      <td>0</td>\n",
       "      <td>0</td>\n",
       "      <td>0</td>\n",
       "      <td>0</td>\n",
       "      <td>0</td>\n",
       "      <td>0</td>\n",
       "      <td>0</td>\n",
       "      <td>0</td>\n",
       "      <td>0</td>\n",
       "    </tr>\n",
       "    <tr>\n",
       "      <th>3</th>\n",
       "      <td>0</td>\n",
       "      <td>0</td>\n",
       "      <td>0</td>\n",
       "      <td>0</td>\n",
       "      <td>0</td>\n",
       "      <td>0</td>\n",
       "      <td>0</td>\n",
       "      <td>0</td>\n",
       "      <td>0</td>\n",
       "      <td>0</td>\n",
       "      <td>...</td>\n",
       "      <td>0</td>\n",
       "      <td>0</td>\n",
       "      <td>0</td>\n",
       "      <td>0</td>\n",
       "      <td>0</td>\n",
       "      <td>0</td>\n",
       "      <td>0</td>\n",
       "      <td>0</td>\n",
       "      <td>0</td>\n",
       "      <td>0</td>\n",
       "    </tr>\n",
       "    <tr>\n",
       "      <th>4</th>\n",
       "      <td>0</td>\n",
       "      <td>0</td>\n",
       "      <td>0</td>\n",
       "      <td>0</td>\n",
       "      <td>0</td>\n",
       "      <td>0</td>\n",
       "      <td>0</td>\n",
       "      <td>0</td>\n",
       "      <td>0</td>\n",
       "      <td>0</td>\n",
       "      <td>...</td>\n",
       "      <td>0</td>\n",
       "      <td>0</td>\n",
       "      <td>0</td>\n",
       "      <td>0</td>\n",
       "      <td>0</td>\n",
       "      <td>0</td>\n",
       "      <td>0</td>\n",
       "      <td>0</td>\n",
       "      <td>0</td>\n",
       "      <td>0</td>\n",
       "    </tr>\n",
       "  </tbody>\n",
       "</table>\n",
       "<p>5 rows × 11784 columns</p>\n",
       "</div>"
      ],
      "text/plain": [
       "   00  000  000new  02  033  036  04  05  050  054th  ...  zimmerman  zip  \\\n",
       "0   0    0       0   0    0    0   0   0    0      0  ...          0    0   \n",
       "1   0    0       0   0    0    0   0   0    0      0  ...          0    0   \n",
       "2   0    0       0   0    0    0   0   0    0      0  ...          0    0   \n",
       "3   0    0       0   0    0    0   0   0    0      0  ...          0    0   \n",
       "4   0    0       0   0    0    0   0   0    0      0  ...          0    0   \n",
       "\n",
       "   zippo  zombie  zombies  zone  zones  zoning  zuckerberg  zuckerbergs  \n",
       "0      0       0        0     0      0       0           0            0  \n",
       "1      0       0        0     0      0       0           0            0  \n",
       "2      0       0        0     0      0       0           0            0  \n",
       "3      0       0        0     0      0       0           0            0  \n",
       "4      0       0        0     0      0       0           0            0  \n",
       "\n",
       "[5 rows x 11784 columns]"
      ]
     },
     "execution_count": 46,
     "metadata": {},
     "output_type": "execute_result"
    }
   ],
   "source": [
    "count_FN = pd.DataFrame(count_train.A, columns=count_vectorizer.get_feature_names())\n",
    "tfidf_FN = pd.DataFrame(tfidf_train.A, columns=tfidf_vectorizer.get_feature_names())\n",
    "\n",
    "count_FN.head()\n"
   ]
  },
  {
   "cell_type": "code",
   "execution_count": null,
   "id": "75f49411",
   "metadata": {},
   "outputs": [
    {
     "data": {
      "text/html": [
       "<div>\n",
       "<style scoped>\n",
       "    .dataframe tbody tr th:only-of-type {\n",
       "        vertical-align: middle;\n",
       "    }\n",
       "\n",
       "    .dataframe tbody tr th {\n",
       "        vertical-align: top;\n",
       "    }\n",
       "\n",
       "    .dataframe thead th {\n",
       "        text-align: right;\n",
       "    }\n",
       "</style>\n",
       "<table border=\"1\" class=\"dataframe\">\n",
       "  <thead>\n",
       "    <tr style=\"text-align: right;\">\n",
       "      <th></th>\n",
       "      <th>00</th>\n",
       "      <th>000</th>\n",
       "      <th>000new</th>\n",
       "      <th>02</th>\n",
       "      <th>033</th>\n",
       "      <th>036</th>\n",
       "      <th>04</th>\n",
       "      <th>05</th>\n",
       "      <th>050</th>\n",
       "      <th>054th</th>\n",
       "      <th>...</th>\n",
       "      <th>zimmerman</th>\n",
       "      <th>zip</th>\n",
       "      <th>zippo</th>\n",
       "      <th>zombie</th>\n",
       "      <th>zombies</th>\n",
       "      <th>zone</th>\n",
       "      <th>zones</th>\n",
       "      <th>zoning</th>\n",
       "      <th>zuckerberg</th>\n",
       "      <th>zuckerbergs</th>\n",
       "    </tr>\n",
       "  </thead>\n",
       "  <tbody>\n",
       "    <tr>\n",
       "      <th>0</th>\n",
       "      <td>0.0</td>\n",
       "      <td>0.0</td>\n",
       "      <td>0.0</td>\n",
       "      <td>0.0</td>\n",
       "      <td>0.0</td>\n",
       "      <td>0.0</td>\n",
       "      <td>0.0</td>\n",
       "      <td>0.0</td>\n",
       "      <td>0.0</td>\n",
       "      <td>0.0</td>\n",
       "      <td>...</td>\n",
       "      <td>0.0</td>\n",
       "      <td>0.0</td>\n",
       "      <td>0.0</td>\n",
       "      <td>0.0</td>\n",
       "      <td>0.0</td>\n",
       "      <td>0.0</td>\n",
       "      <td>0.0</td>\n",
       "      <td>0.0</td>\n",
       "      <td>0.0</td>\n",
       "      <td>0.0</td>\n",
       "    </tr>\n",
       "    <tr>\n",
       "      <th>1</th>\n",
       "      <td>0.0</td>\n",
       "      <td>0.0</td>\n",
       "      <td>0.0</td>\n",
       "      <td>0.0</td>\n",
       "      <td>0.0</td>\n",
       "      <td>0.0</td>\n",
       "      <td>0.0</td>\n",
       "      <td>0.0</td>\n",
       "      <td>0.0</td>\n",
       "      <td>0.0</td>\n",
       "      <td>...</td>\n",
       "      <td>0.0</td>\n",
       "      <td>0.0</td>\n",
       "      <td>0.0</td>\n",
       "      <td>0.0</td>\n",
       "      <td>0.0</td>\n",
       "      <td>0.0</td>\n",
       "      <td>0.0</td>\n",
       "      <td>0.0</td>\n",
       "      <td>0.0</td>\n",
       "      <td>0.0</td>\n",
       "    </tr>\n",
       "    <tr>\n",
       "      <th>2</th>\n",
       "      <td>0.0</td>\n",
       "      <td>0.0</td>\n",
       "      <td>0.0</td>\n",
       "      <td>0.0</td>\n",
       "      <td>0.0</td>\n",
       "      <td>0.0</td>\n",
       "      <td>0.0</td>\n",
       "      <td>0.0</td>\n",
       "      <td>0.0</td>\n",
       "      <td>0.0</td>\n",
       "      <td>...</td>\n",
       "      <td>0.0</td>\n",
       "      <td>0.0</td>\n",
       "      <td>0.0</td>\n",
       "      <td>0.0</td>\n",
       "      <td>0.0</td>\n",
       "      <td>0.0</td>\n",
       "      <td>0.0</td>\n",
       "      <td>0.0</td>\n",
       "      <td>0.0</td>\n",
       "      <td>0.0</td>\n",
       "    </tr>\n",
       "    <tr>\n",
       "      <th>3</th>\n",
       "      <td>0.0</td>\n",
       "      <td>0.0</td>\n",
       "      <td>0.0</td>\n",
       "      <td>0.0</td>\n",
       "      <td>0.0</td>\n",
       "      <td>0.0</td>\n",
       "      <td>0.0</td>\n",
       "      <td>0.0</td>\n",
       "      <td>0.0</td>\n",
       "      <td>0.0</td>\n",
       "      <td>...</td>\n",
       "      <td>0.0</td>\n",
       "      <td>0.0</td>\n",
       "      <td>0.0</td>\n",
       "      <td>0.0</td>\n",
       "      <td>0.0</td>\n",
       "      <td>0.0</td>\n",
       "      <td>0.0</td>\n",
       "      <td>0.0</td>\n",
       "      <td>0.0</td>\n",
       "      <td>0.0</td>\n",
       "    </tr>\n",
       "    <tr>\n",
       "      <th>4</th>\n",
       "      <td>0.0</td>\n",
       "      <td>0.0</td>\n",
       "      <td>0.0</td>\n",
       "      <td>0.0</td>\n",
       "      <td>0.0</td>\n",
       "      <td>0.0</td>\n",
       "      <td>0.0</td>\n",
       "      <td>0.0</td>\n",
       "      <td>0.0</td>\n",
       "      <td>0.0</td>\n",
       "      <td>...</td>\n",
       "      <td>0.0</td>\n",
       "      <td>0.0</td>\n",
       "      <td>0.0</td>\n",
       "      <td>0.0</td>\n",
       "      <td>0.0</td>\n",
       "      <td>0.0</td>\n",
       "      <td>0.0</td>\n",
       "      <td>0.0</td>\n",
       "      <td>0.0</td>\n",
       "      <td>0.0</td>\n",
       "    </tr>\n",
       "  </tbody>\n",
       "</table>\n",
       "<p>5 rows × 11784 columns</p>\n",
       "</div>"
      ],
      "text/plain": [
       "    00  000  000new   02  033  036   04   05  050  054th  ...  zimmerman  zip  \\\n",
       "0  0.0  0.0     0.0  0.0  0.0  0.0  0.0  0.0  0.0    0.0  ...        0.0  0.0   \n",
       "1  0.0  0.0     0.0  0.0  0.0  0.0  0.0  0.0  0.0    0.0  ...        0.0  0.0   \n",
       "2  0.0  0.0     0.0  0.0  0.0  0.0  0.0  0.0  0.0    0.0  ...        0.0  0.0   \n",
       "3  0.0  0.0     0.0  0.0  0.0  0.0  0.0  0.0  0.0    0.0  ...        0.0  0.0   \n",
       "4  0.0  0.0     0.0  0.0  0.0  0.0  0.0  0.0  0.0    0.0  ...        0.0  0.0   \n",
       "\n",
       "   zippo  zombie  zombies  zone  zones  zoning  zuckerberg  zuckerbergs  \n",
       "0    0.0     0.0      0.0   0.0    0.0     0.0         0.0          0.0  \n",
       "1    0.0     0.0      0.0   0.0    0.0     0.0         0.0          0.0  \n",
       "2    0.0     0.0      0.0   0.0    0.0     0.0         0.0          0.0  \n",
       "3    0.0     0.0      0.0   0.0    0.0     0.0         0.0          0.0  \n",
       "4    0.0     0.0      0.0   0.0    0.0     0.0         0.0          0.0  \n",
       "\n",
       "[5 rows x 11784 columns]"
      ]
     },
     "execution_count": 47,
     "metadata": {},
     "output_type": "execute_result"
    }
   ],
   "source": [
    "tfidf_FN.head()"
   ]
  },
  {
   "cell_type": "code",
   "execution_count": null,
   "id": "57916ac4",
   "metadata": {},
   "outputs": [
    {
     "name": "stdout",
     "output_type": "stream",
     "text": [
      "False\n"
     ]
    }
   ],
   "source": [
    "difference = set(count_FN.columns) - set(tfidf_FN.columns)\n",
    "difference\n",
    "set()\n",
    "print(count_FN.equals(tfidf_FN))"
   ]
  },
  {
   "cell_type": "code",
   "execution_count": null,
   "id": "9f894a9d",
   "metadata": {},
   "outputs": [
    {
     "name": "stdout",
     "output_type": "stream",
     "text": [
      "<class 'pandas.core.frame.DataFrame'>\n",
      "Int64Index: 8474 entries, 4 to 12833\n",
      "Data columns (total 15 columns):\n",
      " #   Column             Non-Null Count  Dtype \n",
      "---  ------             --------------  ----- \n",
      " 0   index              8474 non-null   int64 \n",
      " 1   ID                 8474 non-null   object\n",
      " 2   label              8474 non-null   object\n",
      " 3   statement          8474 non-null   object\n",
      " 4   subject            8474 non-null   object\n",
      " 5   speaker            8474 non-null   object\n",
      " 6   job                8474 non-null   object\n",
      " 7   state              8474 non-null   object\n",
      " 8   party              8474 non-null   object\n",
      " 9   barely_true_cts    8474 non-null   int64 \n",
      " 10  false_cts          8474 non-null   int64 \n",
      " 11  half_true_cts      8474 non-null   int64 \n",
      " 12  mostly_true_cts    8474 non-null   int64 \n",
      " 13  pants_on_fire_cts  8474 non-null   int64 \n",
      " 14  context            8474 non-null   object\n",
      "dtypes: int64(6), object(9)\n",
      "memory usage: 1.0+ MB\n",
      "None\n"
     ]
    }
   ],
   "source": [
    "print(df.info())"
   ]
  },
  {
   "cell_type": "code",
   "execution_count": null,
   "id": "58e1d64b",
   "metadata": {},
   "outputs": [
    {
     "name": "stdout",
     "output_type": "stream",
     "text": [
      "              index  barely_true_cts    false_cts  half_true_cts  \\\n",
      "count   8474.000000      8474.000000  8474.000000    8474.000000   \n",
      "mean    4217.388600        15.468728    17.515577      23.973684   \n",
      "std     3208.603394        21.981039    27.971855      42.129553   \n",
      "min        0.000000         0.000000     0.000000       0.000000   \n",
      "25%     1070.000000         0.000000     1.000000       1.000000   \n",
      "50%     3760.500000         3.000000     4.000000       4.000000   \n",
      "75%     7062.750000        28.000000    24.000000      31.000000   \n",
      "max    10268.000000        70.000000   114.000000     160.000000   \n",
      "\n",
      "       mostly_true_cts  pants_on_fire_cts  \n",
      "count      8474.000000        8474.000000  \n",
      "mean         23.143498           5.812367  \n",
      "std          42.589729          12.328769  \n",
      "min           0.000000           0.000000  \n",
      "25%           1.000000           0.000000  \n",
      "50%           4.000000           1.000000  \n",
      "75%          33.000000           7.000000  \n",
      "max         163.000000          61.000000  \n"
     ]
    }
   ],
   "source": [
    "print(df.describe())"
   ]
  },
  {
   "cell_type": "markdown",
   "id": "6a33835e",
   "metadata": {},
   "source": [
    "# Defining custom functions for displaying results of Classification"
   ]
  },
  {
   "cell_type": "code",
   "execution_count": null,
   "id": "426e608a",
   "metadata": {},
   "outputs": [],
   "source": [
    "# function for results of cross-validation\n",
    "def print_cv_scores_summary(name, scores):\n",
    "    print(\"{}: mean = {:.2f}%, sd = {:.2f}%, min = {:.2f}, max = {:.2f}\".format(name, scores.mean()*100, scores.std()*100, scores.min()*100, scores.max()*100))\n",
    "\n",
    "\n",
    "# fucntion for results of model fitting\n",
    "def print_scores():\n",
    "    print(\"Accuracy: \", accuracy_score(y_test, predictions))\n",
    "    print(classification_report(y_test, predictions))\n",
    "    print(confusion_matrix(y_test, predictions))\n",
    "    \n",
    "# function for displaying confusion matrix\n",
    "def confusion_matrix_heatmap(cm, index):\n",
    "    cmdf = pd.DataFrame(cm, index = index, columns=index)\n",
    "    dims = (10, 8)\n",
    "    fig, ax = plt.subplots(figsize=dims)\n",
    "    sns.heatmap(cmdf, annot=True, cmap=\"BuPu\", center=0, fmt='g')\n",
    "    ax.set_ylabel('Actual')    \n",
    "    ax.set_xlabel('Predicted')\n",
    "\n",
    "# function for displaying confusion matrix in percentage terms\n",
    "def confusion_matrix_percent_heatmap(cm, index):\n",
    "    cmdf = pd.DataFrame(cm, index = index, columns=index)\n",
    "    percents = cmdf.div(cmdf.sum(axis=1), axis=0)*100\n",
    "    dims = (10, 10)\n",
    "    fig, ax = plt.subplots(figsize=dims)\n",
    "    sns.heatmap(percents, annot=True, cmap=\"PiYG\", center=0, vmin=0, vmax=100)\n",
    "    ax.set_ylabel('Actual')    \n",
    "    ax.set_xlabel('Predicted')\n",
    "    cbar = ax.collections[0].colorbar\n",
    "    cbar.set_ticks([0, 25, 50, 75, 100])\n",
    "    cbar.set_ticklabels(['0%', '25%', '50%', '75%', '100%'])\n",
    "    \n",
    "#list(df_columns.columns))-list(df_raw['labels'])\"coolwarm\"'Blues'PiYG'BuPu'"
   ]
  },
  {
   "cell_type": "markdown",
   "id": "578a107a",
   "metadata": {},
   "source": [
    "# Creating Pipeline with CountVectorizer and Other Functions"
   ]
  },
  {
   "cell_type": "code",
   "execution_count": null,
   "id": "dd5cdd4a",
   "metadata": {},
   "outputs": [
    {
     "name": "stdout",
     "output_type": "stream",
     "text": [
      "Requirement already satisfied: ftfy in c:\\users\\lenovo\\anaconda3\\lib\\site-packages (6.1.1)\n",
      "Requirement already satisfied: wcwidth>=0.2.5 in c:\\users\\lenovo\\anaconda3\\lib\\site-packages (from ftfy) (0.2.5)\n"
     ]
    },
    {
     "name": "stderr",
     "output_type": "stream",
     "text": [
      "C:\\Users\\Lenovo\\anaconda3\\lib\\site-packages\\sklearn\\feature_extraction\\text.py:388: UserWarning: Your stop_words may be inconsistent with your preprocessing. Tokenizing the stop words generated tokens ['abov', 'ani', 'arent', 'becaus', 'befor', 'couldnt', 'didnt', 'doe', 'doesnt', 'dont', 'dure', 'ha', 'hadnt', 'hasnt', 'havent', 'hi', 'isnt', 'mightnt', 'mustnt', 'neednt', 'onc', 'onli', 'ourselv', 'shant', 'shouldnt', 'shouldv', 'thatll', 'themselv', 'thi', 'veri', 'wa', 'wasnt', 'werent', 'whi', 'wont', 'wouldnt', 'youd', 'youll', 'yourselv', 'youv'] not in stop_words.\n",
      "  warnings.warn('Your stop_words may be inconsistent with '\n"
     ]
    },
    {
     "name": "stdout",
     "output_type": "stream",
     "text": [
      "Accuracy:  0.23481308411214954\n",
      "              precision    recall  f1-score   support\n",
      "\n",
      " barely-true       0.24      0.14      0.17       422\n",
      "       false       0.24      0.47      0.32       502\n",
      "   half-true       0.23      0.26      0.24       528\n",
      " mostly-true       0.25      0.22      0.23       493\n",
      "  pants-fire       0.20      0.11      0.15       210\n",
      "        true       0.20      0.10      0.14       413\n",
      "\n",
      "    accuracy                           0.23      2568\n",
      "   macro avg       0.23      0.22      0.21      2568\n",
      "weighted avg       0.23      0.23      0.22      2568\n",
      "\n",
      "[[ 57 163  92  62  22  26]\n",
      " [ 50 236 105  55  21  35]\n",
      " [ 44 180 138 100  18  48]\n",
      " [ 32 148 144 106  15  48]\n",
      " [ 26  94  34  23  24   9]\n",
      " [ 29 152  94  78  18  42]]\n"
     ]
    }
   ],
   "source": [
    "from sklearn.feature_extraction import DictVectorizer\n",
    "from sklearn.feature_selection import SelectKBest, chi2\n",
    "from sklearn.linear_model import LogisticRegression\n",
    "from sklearn.naive_bayes import MultinomialNB\n",
    "!pip3 install ftfy\n",
    "import ftfy\n",
    "\n",
    "\n",
    "model = Pipeline([\n",
    "    ('vectorizer', CountVectorizer(analyzer='word',preprocessor=preprocess,tokenizer=Tokenizer,stop_words=stopwords_list)),\n",
    "    ('norm2', TfidfTransformer(norm=None)),\n",
    "    ('selector', SelectKBest(chi2, k=1000)),\n",
    "    ('clf', LogisticRegression(solver='liblinear', random_state=0)),\n",
    "])\n",
    "\n",
    "\n",
    "# fitting the model\n",
    "model.fit(x_train, y_train)\n",
    "predictions = model.predict(x_test)\n",
    "print_scores() # using the predefined function to display results of the classification"
   ]
  },
  {
   "cell_type": "code",
   "execution_count": null,
   "id": "91f50ec3",
   "metadata": {},
   "outputs": [
    {
     "name": "stdout",
     "output_type": "stream",
     "text": [
      "Accuracy:  0.23208722741433022\n",
      "              precision    recall  f1-score   support\n",
      "\n",
      " barely-true       0.23      0.21      0.22       422\n",
      "       false       0.24      0.28      0.26       502\n",
      "   half-true       0.22      0.22      0.22       528\n",
      " mostly-true       0.26      0.26      0.26       493\n",
      "  pants-fire       0.15      0.13      0.14       210\n",
      "        true       0.24      0.23      0.24       413\n",
      "\n",
      "    accuracy                           0.23      2568\n",
      "   macro avg       0.22      0.22      0.22      2568\n",
      "weighted avg       0.23      0.23      0.23      2568\n",
      "\n",
      "[[ 87  83  90  74  35  53]\n",
      " [ 79 140 101  83  41  58]\n",
      " [ 68 123 118  96  32  91]\n",
      " [ 58  90 106 127  20  92]\n",
      " [ 43  59  39  21  27  21]\n",
      " [ 49  90  76  79  22  97]]\n"
     ]
    }
   ],
   "source": [
    "# limiting the max features to 1000 and checking the model\n",
    "model.set_params(vectorizer__max_features=1000)\n",
    "\n",
    "model.fit(x_train, y_train)\n",
    "predictions = model.predict(x_test)\n",
    "print_scores()\n",
    "# the accuracy is reduced so reverting back without setting max features"
   ]
  },
  {
   "cell_type": "markdown",
   "id": "2dbbd26a",
   "metadata": {},
   "source": [
    "# Using Binarizer for normalisation instead of TfidfTransformer"
   ]
  },
  {
   "cell_type": "markdown",
   "id": "fc17d717",
   "metadata": {},
   "source": [
    "## Logistic Regression"
   ]
  },
  {
   "cell_type": "code",
   "execution_count": null,
   "id": "903d478f",
   "metadata": {},
   "outputs": [
    {
     "name": "stderr",
     "output_type": "stream",
     "text": [
      "C:\\Users\\Lenovo\\anaconda3\\lib\\site-packages\\sklearn\\feature_extraction\\text.py:388: UserWarning: Your stop_words may be inconsistent with your preprocessing. Tokenizing the stop words generated tokens ['abov', 'ani', 'arent', 'becaus', 'befor', 'couldnt', 'didnt', 'doe', 'doesnt', 'dont', 'dure', 'ha', 'hadnt', 'hasnt', 'havent', 'hi', 'isnt', 'mightnt', 'mustnt', 'neednt', 'onc', 'onli', 'ourselv', 'shant', 'shouldnt', 'shouldv', 'thatll', 'themselv', 'thi', 'veri', 'wa', 'wasnt', 'werent', 'whi', 'wont', 'wouldnt', 'youd', 'youll', 'yourselv', 'youv'] not in stop_words.\n",
      "  warnings.warn('Your stop_words may be inconsistent with '\n"
     ]
    },
    {
     "name": "stdout",
     "output_type": "stream",
     "text": [
      "Accuracy:  0.24493769470404986\n",
      "              precision    recall  f1-score   support\n",
      "\n",
      " barely-true       0.21      0.20      0.21       422\n",
      "       false       0.26      0.31      0.28       502\n",
      "   half-true       0.23      0.25      0.24       528\n",
      " mostly-true       0.27      0.26      0.26       493\n",
      "  pants-fire       0.28      0.16      0.20       210\n",
      "        true       0.24      0.23      0.24       413\n",
      "\n",
      "    accuracy                           0.24      2568\n",
      "   macro avg       0.25      0.24      0.24      2568\n",
      "weighted avg       0.25      0.24      0.24      2568\n",
      "\n",
      "[[ 84  95 100  84  21  38]\n",
      " [ 84 154 102  78  26  58]\n",
      " [ 82 117 131  83  15 100]\n",
      " [ 70  80 116 129  13  85]\n",
      " [ 32  63  33  26  34  22]\n",
      " [ 44  86  87  85  14  97]]\n"
     ]
    },
    {
     "data": {
      "image/png": "[encoded data removed]",
      "text/plain": [
       "<Figure size 720x576 with 2 Axes>"
      ]
     },
     "metadata": {
      "needs_background": "light"
     },
     "output_type": "display_data"
    }
   ],
   "source": [
    "from sklearn.preprocessing import Binarizer\n",
    "\n",
    "model = Pipeline([\n",
    "    ('vectorizer', CountVectorizer(analyzer='word',preprocessor=preprocess,tokenizer=Tokenizer,stop_words=stopwords_list)),\n",
    "    ('norm', Binarizer()),\n",
    "    ('clf', LogisticRegression(solver='liblinear', random_state=0)),\n",
    "])\n",
    "\n",
    "model.fit(x_train, y_train)\n",
    "predictions = model.predict(x_test)\n",
    "print_scores()\n",
    "\n",
    "confusion_matrix_heatmap(confusion_matrix(y_test,predictions), model.classes_)"
   ]
  },
  {
   "cell_type": "markdown",
   "id": "c4f59f5b",
   "metadata": {},
   "source": [
    "## MultiNominal NB"
   ]
  },
  {
   "cell_type": "code",
   "execution_count": null,
   "id": "ab012d58",
   "metadata": {},
   "outputs": [
    {
     "name": "stdout",
     "output_type": "stream",
     "text": [
      "Accuracy:  0.24065420560747663\n",
      "              precision    recall  f1-score   support\n",
      "\n",
      " barely-true       0.21      0.19      0.20       422\n",
      "       false       0.26      0.28      0.27       502\n",
      "   half-true       0.23      0.33      0.27       528\n",
      " mostly-true       0.27      0.30      0.28       493\n",
      "  pants-fire       0.29      0.06      0.10       210\n",
      "        true       0.22      0.16      0.18       413\n",
      "\n",
      "    accuracy                           0.24      2568\n",
      "   macro avg       0.25      0.22      0.22      2568\n",
      "weighted avg       0.24      0.24      0.23      2568\n",
      "\n",
      "[[ 81  85 131  88   8  29]\n",
      " [ 86 141 145  74   8  48]\n",
      " [ 69 107 172 110   5  65]\n",
      " [ 60  59 152 147   2  73]\n",
      " [ 43  67  38  35  12  15]\n",
      " [ 41  82 125  93   7  65]]\n"
     ]
    },
    {
     "data": {
      "image/png": "[encoded data removed]",
      "text/plain": [
       "<Figure size 720x576 with 2 Axes>"
      ]
     },
     "metadata": {
      "needs_background": "light"
     },
     "output_type": "display_data"
    }
   ],
   "source": [
    "# Using Multinomial Naive Bayes classifier\n",
    "model.set_params(clf=MultinomialNB())\n",
    "\n",
    "model.fit(x_train, y_train)\n",
    "predictions = model.predict(x_test)\n",
    "print_scores()\n",
    "\n",
    "confusion_matrix_heatmap(confusion_matrix(y_test,predictions), model.classes_)"
   ]
  },
  {
   "cell_type": "markdown",
   "id": "0f6f1cbe",
   "metadata": {},
   "source": [
    "## XG Boost "
   ]
  },
  {
   "cell_type": "code",
   "execution_count": null,
   "id": "9b2274dd",
   "metadata": {},
   "outputs": [
    {
     "name": "stderr",
     "output_type": "stream",
     "text": [
      "C:\\Users\\Lenovo\\anaconda3\\lib\\site-packages\\xgboost\\sklearn.py:1224: UserWarning: The use of label encoder in XGBClassifier is deprecated and will be removed in a future release. To remove this warning, do the following: 1) Pass option use_label_encoder=False when constructing XGBClassifier object; and 2) Encode your labels (y) as integers starting with 0, i.e. 0, 1, 2, ..., [num_class - 1].\n",
      "  warnings.warn(label_encoder_deprecation_msg, UserWarning)\n"
     ]
    },
    {
     "name": "stdout",
     "output_type": "stream",
     "text": [
      "[16:00:23] WARNING: C:/Users/Administrator/workspace/xgboost-win64_release_1.5.1/src/learner.cc:1115: Starting in XGBoost 1.3.0, the default evaluation metric used with the objective 'multi:softprob' was changed from 'merror' to 'mlogloss'. Explicitly set eval_metric if you'd like to restore the old behavior.\n",
      "Accuracy:  0.23909657320872274\n",
      "              precision    recall  f1-score   support\n",
      "\n",
      " barely-true       0.22      0.13      0.17       422\n",
      "       false       0.24      0.43      0.31       502\n",
      "   half-true       0.21      0.27      0.24       528\n",
      " mostly-true       0.29      0.28      0.28       493\n",
      "  pants-fire       0.32      0.06      0.10       210\n",
      "        true       0.22      0.12      0.16       413\n",
      "\n",
      "    accuracy                           0.24      2568\n",
      "   macro avg       0.25      0.22      0.21      2568\n",
      "weighted avg       0.24      0.24      0.22      2568\n",
      "\n",
      "[[ 56 137 123  70  10  26]\n",
      " [ 62 218 119  61   6  36]\n",
      " [ 46 181 141 102   5  53]\n",
      " [ 30 128 138 137   3  57]\n",
      " [ 28 103  40  20  12   7]\n",
      " [ 28 141 104  88   2  50]]\n"
     ]
    },
    {
     "data": {
      "image/png": "[encoded data removed]",
      "text/plain": [
       "<Figure size 720x576 with 2 Axes>"
      ]
     },
     "metadata": {
      "needs_background": "light"
     },
     "output_type": "display_data"
    }
   ],
   "source": [
    "# fitting X-gradient boost algorithm\n",
    "model.set_params(clf=XGBClassifier(max_depth=3, n_estimators=300, learning_rate=0.1, random_state=0))\n",
    "model.fit(x_train, y_train)\n",
    "predictions = model.predict(x_test)\n",
    "print_scores()\n",
    "\n",
    "confusion_matrix_heatmap(confusion_matrix(y_test,predictions), model.classes_)"
   ]
  },
  {
   "cell_type": "markdown",
   "id": "89040113",
   "metadata": {},
   "source": [
    "## Passive Aggressive Classifier "
   ]
  },
  {
   "cell_type": "code",
   "execution_count": null,
   "id": "c1dbc947",
   "metadata": {},
   "outputs": [
    {
     "name": "stdout",
     "output_type": "stream",
     "text": [
      "Accuracy:  0.22429906542056074\n",
      "              precision    recall  f1-score   support\n",
      "\n",
      " barely-true       0.20      0.20      0.20       422\n",
      "       false       0.25      0.26      0.26       502\n",
      "   half-true       0.23      0.26      0.25       528\n",
      " mostly-true       0.23      0.19      0.21       493\n",
      "  pants-fire       0.21      0.19      0.20       210\n",
      "        true       0.20      0.21      0.21       413\n",
      "\n",
      "    accuracy                           0.22      2568\n",
      "   macro avg       0.22      0.22      0.22      2568\n",
      "weighted avg       0.22      0.22      0.22      2568\n",
      "\n",
      "[[ 85  86  81  77  34  59]\n",
      " [ 96 132 105  59  43  67]\n",
      " [ 92 102 137  69  30  98]\n",
      " [ 69  84 131  95  22  92]\n",
      " [ 31  42  37  36  40  24]\n",
      " [ 50  82  94  78  22  87]]\n"
     ]
    },
    {
     "data": {
      "image/png": "[encoded data removed]",
      "text/plain": [
       "<Figure size 720x576 with 2 Axes>"
      ]
     },
     "metadata": {
      "needs_background": "light"
     },
     "output_type": "display_data"
    }
   ],
   "source": [
    "from sklearn.linear_model import PassiveAggressiveClassifier\n",
    "\n",
    "# fitting passive aggressive classifier algorithm\n",
    "model.set_params(clf=PassiveAggressiveClassifier())\n",
    "model.fit(x_train, y_train)\n",
    "predictions = model.predict(x_test)\n",
    "print_scores()\n",
    "\n",
    "confusion_matrix_heatmap(confusion_matrix(y_test,predictions), model.classes_)"
   ]
  },
  {
   "cell_type": "markdown",
   "id": "18dd55b4",
   "metadata": {},
   "source": [
    "# Cross validating the best models"
   ]
  },
  {
   "cell_type": "code",
   "execution_count": null,
   "id": "43344859",
   "metadata": {},
   "outputs": [
    {
     "name": "stderr",
     "output_type": "stream",
     "text": [
      "C:\\Users\\Lenovo\\anaconda3\\lib\\site-packages\\sklearn\\feature_extraction\\text.py:388: UserWarning: Your stop_words may be inconsistent with your preprocessing. Tokenizing the stop words generated tokens ['abov', 'ani', 'arent', 'becaus', 'befor', 'couldnt', 'didnt', 'doe', 'doesnt', 'dont', 'dure', 'ha', 'hadnt', 'hasnt', 'havent', 'hi', 'isnt', 'mightnt', 'mustnt', 'neednt', 'onc', 'onli', 'ourselv', 'shant', 'shouldnt', 'shouldv', 'thatll', 'themselv', 'thi', 'veri', 'wa', 'wasnt', 'werent', 'whi', 'wont', 'wouldnt', 'youd', 'youll', 'yourselv', 'youv'] not in stop_words.\n",
      "  warnings.warn('Your stop_words may be inconsistent with '\n",
      "C:\\Users\\Lenovo\\anaconda3\\lib\\site-packages\\sklearn\\feature_extraction\\text.py:388: UserWarning: Your stop_words may be inconsistent with your preprocessing. Tokenizing the stop words generated tokens ['abov', 'ani', 'arent', 'becaus', 'befor', 'couldnt', 'didnt', 'doe', 'doesnt', 'dont', 'dure', 'ha', 'hadnt', 'hasnt', 'havent', 'hi', 'isnt', 'mightnt', 'mustnt', 'neednt', 'onc', 'onli', 'ourselv', 'shant', 'shouldnt', 'shouldv', 'thatll', 'themselv', 'thi', 'veri', 'wa', 'wasnt', 'werent', 'whi', 'wont', 'wouldnt', 'youd', 'youll', 'yourselv', 'youv'] not in stop_words.\n",
      "  warnings.warn('Your stop_words may be inconsistent with '\n",
      "C:\\Users\\Lenovo\\anaconda3\\lib\\site-packages\\sklearn\\feature_extraction\\text.py:388: UserWarning: Your stop_words may be inconsistent with your preprocessing. Tokenizing the stop words generated tokens ['abov', 'ani', 'arent', 'becaus', 'befor', 'couldnt', 'didnt', 'doe', 'doesnt', 'dont', 'dure', 'ha', 'hadnt', 'hasnt', 'havent', 'hi', 'isnt', 'mightnt', 'mustnt', 'neednt', 'onc', 'onli', 'ourselv', 'shant', 'shouldnt', 'shouldv', 'thatll', 'themselv', 'thi', 'veri', 'wa', 'wasnt', 'werent', 'whi', 'wont', 'wouldnt', 'youd', 'youll', 'yourselv', 'youv'] not in stop_words.\n",
      "  warnings.warn('Your stop_words may be inconsistent with '\n",
      "C:\\Users\\Lenovo\\anaconda3\\lib\\site-packages\\sklearn\\feature_extraction\\text.py:388: UserWarning: Your stop_words may be inconsistent with your preprocessing. Tokenizing the stop words generated tokens ['abov', 'ani', 'arent', 'becaus', 'befor', 'couldnt', 'didnt', 'doe', 'doesnt', 'dont', 'dure', 'ha', 'hadnt', 'hasnt', 'havent', 'hi', 'isnt', 'mightnt', 'mustnt', 'neednt', 'onc', 'onli', 'ourselv', 'shant', 'shouldnt', 'shouldv', 'thatll', 'themselv', 'thi', 'veri', 'wa', 'wasnt', 'werent', 'whi', 'wont', 'wouldnt', 'youd', 'youll', 'yourselv', 'youv'] not in stop_words.\n",
      "  warnings.warn('Your stop_words may be inconsistent with '\n",
      "C:\\Users\\Lenovo\\anaconda3\\lib\\site-packages\\sklearn\\feature_extraction\\text.py:388: UserWarning: Your stop_words may be inconsistent with your preprocessing. Tokenizing the stop words generated tokens ['abov', 'ani', 'arent', 'becaus', 'befor', 'couldnt', 'didnt', 'doe', 'doesnt', 'dont', 'dure', 'ha', 'hadnt', 'hasnt', 'havent', 'hi', 'isnt', 'mightnt', 'mustnt', 'neednt', 'onc', 'onli', 'ourselv', 'shant', 'shouldnt', 'shouldv', 'thatll', 'themselv', 'thi', 'veri', 'wa', 'wasnt', 'werent', 'whi', 'wont', 'wouldnt', 'youd', 'youll', 'yourselv', 'youv'] not in stop_words.\n",
      "  warnings.warn('Your stop_words may be inconsistent with '\n"
     ]
    },
    {
     "name": "stdout",
     "output_type": "stream",
     "text": [
      "Accuracy: mean = 24.04%, sd = 0.77%, min = 22.52, max = 24.58\n",
      "Precision: mean = 24.04%, sd = 0.80%, min = 22.48, max = 24.69\n",
      "Recall: mean = 24.04%, sd = 0.77%, min = 22.52, max = 24.58\n",
      "F1: mean = 23.86%, sd = 0.79%, min = 22.30, max = 24.46\n"
     ]
    }
   ],
   "source": [
    "# for Logistic Regression\n",
    "model.set_params(clf= LogisticRegression(solver='liblinear', random_state=0))\n",
    "\n",
    "cv_scores = cross_validate(model, x, y,\n",
    "                           cv=StratifiedKFold(n_splits=5,shuffle=False, random_state= None), \n",
    "                           return_train_score=False, \n",
    "                           scoring=['accuracy', 'precision_weighted', 'recall_weighted', 'f1_weighted']\n",
    "                          )\n",
    "\n",
    "\n",
    "print_cv_scores_summary(\"Accuracy\", cv_scores['test_accuracy'])\n",
    "print_cv_scores_summary(\"Precision\", cv_scores['test_precision_weighted'])\n",
    "print_cv_scores_summary(\"Recall\", cv_scores['test_recall_weighted'])\n",
    "print_cv_scores_summary(\"F1\", cv_scores['test_f1_weighted'])"
   ]
  },
  {
   "cell_type": "code",
   "execution_count": null,
   "id": "3592dc7d",
   "metadata": {},
   "outputs": [
    {
     "name": "stderr",
     "output_type": "stream",
     "text": [
      "C:\\Users\\Lenovo\\anaconda3\\lib\\site-packages\\sklearn\\feature_extraction\\text.py:388: UserWarning: Your stop_words may be inconsistent with your preprocessing. Tokenizing the stop words generated tokens ['abov', 'ani', 'arent', 'becaus', 'befor', 'couldnt', 'didnt', 'doe', 'doesnt', 'dont', 'dure', 'ha', 'hadnt', 'hasnt', 'havent', 'hi', 'isnt', 'mightnt', 'mustnt', 'neednt', 'onc', 'onli', 'ourselv', 'shant', 'shouldnt', 'shouldv', 'thatll', 'themselv', 'thi', 'veri', 'wa', 'wasnt', 'werent', 'whi', 'wont', 'wouldnt', 'youd', 'youll', 'yourselv', 'youv'] not in stop_words.\n",
      "  warnings.warn('Your stop_words may be inconsistent with '\n",
      "C:\\Users\\Lenovo\\anaconda3\\lib\\site-packages\\sklearn\\feature_extraction\\text.py:388: UserWarning: Your stop_words may be inconsistent with your preprocessing. Tokenizing the stop words generated tokens ['abov', 'ani', 'arent', 'becaus', 'befor', 'couldnt', 'didnt', 'doe', 'doesnt', 'dont', 'dure', 'ha', 'hadnt', 'hasnt', 'havent', 'hi', 'isnt', 'mightnt', 'mustnt', 'neednt', 'onc', 'onli', 'ourselv', 'shant', 'shouldnt', 'shouldv', 'thatll', 'themselv', 'thi', 'veri', 'wa', 'wasnt', 'werent', 'whi', 'wont', 'wouldnt', 'youd', 'youll', 'yourselv', 'youv'] not in stop_words.\n",
      "  warnings.warn('Your stop_words may be inconsistent with '\n",
      "C:\\Users\\Lenovo\\anaconda3\\lib\\site-packages\\sklearn\\feature_extraction\\text.py:388: UserWarning: Your stop_words may be inconsistent with your preprocessing. Tokenizing the stop words generated tokens ['abov', 'ani', 'arent', 'becaus', 'befor', 'couldnt', 'didnt', 'doe', 'doesnt', 'dont', 'dure', 'ha', 'hadnt', 'hasnt', 'havent', 'hi', 'isnt', 'mightnt', 'mustnt', 'neednt', 'onc', 'onli', 'ourselv', 'shant', 'shouldnt', 'shouldv', 'thatll', 'themselv', 'thi', 'veri', 'wa', 'wasnt', 'werent', 'whi', 'wont', 'wouldnt', 'youd', 'youll', 'yourselv', 'youv'] not in stop_words.\n",
      "  warnings.warn('Your stop_words may be inconsistent with '\n",
      "C:\\Users\\Lenovo\\anaconda3\\lib\\site-packages\\sklearn\\feature_extraction\\text.py:388: UserWarning: Your stop_words may be inconsistent with your preprocessing. Tokenizing the stop words generated tokens ['abov', 'ani', 'arent', 'becaus', 'befor', 'couldnt', 'didnt', 'doe', 'doesnt', 'dont', 'dure', 'ha', 'hadnt', 'hasnt', 'havent', 'hi', 'isnt', 'mightnt', 'mustnt', 'neednt', 'onc', 'onli', 'ourselv', 'shant', 'shouldnt', 'shouldv', 'thatll', 'themselv', 'thi', 'veri', 'wa', 'wasnt', 'werent', 'whi', 'wont', 'wouldnt', 'youd', 'youll', 'yourselv', 'youv'] not in stop_words.\n",
      "  warnings.warn('Your stop_words may be inconsistent with '\n",
      "C:\\Users\\Lenovo\\anaconda3\\lib\\site-packages\\sklearn\\feature_extraction\\text.py:388: UserWarning: Your stop_words may be inconsistent with your preprocessing. Tokenizing the stop words generated tokens ['abov', 'ani', 'arent', 'becaus', 'befor', 'couldnt', 'didnt', 'doe', 'doesnt', 'dont', 'dure', 'ha', 'hadnt', 'hasnt', 'havent', 'hi', 'isnt', 'mightnt', 'mustnt', 'neednt', 'onc', 'onli', 'ourselv', 'shant', 'shouldnt', 'shouldv', 'thatll', 'themselv', 'thi', 'veri', 'wa', 'wasnt', 'werent', 'whi', 'wont', 'wouldnt', 'youd', 'youll', 'yourselv', 'youv'] not in stop_words.\n",
      "  warnings.warn('Your stop_words may be inconsistent with '\n"
     ]
    },
    {
     "name": "stdout",
     "output_type": "stream",
     "text": [
      "Accuracy: mean = 24.48%, sd = 1.27%, min = 22.20, max = 25.98\n",
      "Precision: mean = 24.84%, sd = 1.44%, min = 22.58, max = 26.61\n",
      "Recall: mean = 24.48%, sd = 1.27%, min = 22.20, max = 25.98\n",
      "F1: mean = 23.58%, sd = 1.24%, min = 21.36, max = 24.89\n"
     ]
    }
   ],
   "source": [
    "# for MultinominalNB\n",
    "\n",
    "model.set_params(clf=MultinomialNB())\n",
    "\n",
    "cv_scores = cross_validate(model, x, y, \n",
    "                           cv=StratifiedKFold(n_splits=5, shuffle=False, random_state= None), \n",
    "                           return_train_score=False, \n",
    "                           scoring=['accuracy', 'precision_weighted', 'recall_weighted', 'f1_weighted']\n",
    "                          )\n",
    "\n",
    "print_cv_scores_summary(\"Accuracy\", cv_scores['test_accuracy'])\n",
    "print_cv_scores_summary(\"Precision\", cv_scores['test_precision_weighted'])\n",
    "print_cv_scores_summary(\"Recall\", cv_scores['test_recall_weighted'])\n",
    "print_cv_scores_summary(\"F1\", cv_scores['test_f1_weighted'])"
   ]
  },
  {
   "cell_type": "code",
   "execution_count": null,
   "id": "83c183ad",
   "metadata": {},
   "outputs": [
    {
     "name": "stderr",
     "output_type": "stream",
     "text": [
      "C:\\Users\\Lenovo\\anaconda3\\lib\\site-packages\\sklearn\\feature_extraction\\text.py:388: UserWarning: Your stop_words may be inconsistent with your preprocessing. Tokenizing the stop words generated tokens ['abov', 'ani', 'arent', 'becaus', 'befor', 'couldnt', 'didnt', 'doe', 'doesnt', 'dont', 'dure', 'ha', 'hadnt', 'hasnt', 'havent', 'hi', 'isnt', 'mightnt', 'mustnt', 'neednt', 'onc', 'onli', 'ourselv', 'shant', 'shouldnt', 'shouldv', 'thatll', 'themselv', 'thi', 'veri', 'wa', 'wasnt', 'werent', 'whi', 'wont', 'wouldnt', 'youd', 'youll', 'yourselv', 'youv'] not in stop_words.\n",
      "  warnings.warn('Your stop_words may be inconsistent with '\n",
      "C:\\Users\\Lenovo\\anaconda3\\lib\\site-packages\\sklearn\\feature_extraction\\text.py:388: UserWarning: Your stop_words may be inconsistent with your preprocessing. Tokenizing the stop words generated tokens ['abov', 'ani', 'arent', 'becaus', 'befor', 'couldnt', 'didnt', 'doe', 'doesnt', 'dont', 'dure', 'ha', 'hadnt', 'hasnt', 'havent', 'hi', 'isnt', 'mightnt', 'mustnt', 'neednt', 'onc', 'onli', 'ourselv', 'shant', 'shouldnt', 'shouldv', 'thatll', 'themselv', 'thi', 'veri', 'wa', 'wasnt', 'werent', 'whi', 'wont', 'wouldnt', 'youd', 'youll', 'yourselv', 'youv'] not in stop_words.\n",
      "  warnings.warn('Your stop_words may be inconsistent with '\n",
      "C:\\Users\\Lenovo\\anaconda3\\lib\\site-packages\\sklearn\\feature_extraction\\text.py:388: UserWarning: Your stop_words may be inconsistent with your preprocessing. Tokenizing the stop words generated tokens ['abov', 'ani', 'arent', 'becaus', 'befor', 'couldnt', 'didnt', 'doe', 'doesnt', 'dont', 'dure', 'ha', 'hadnt', 'hasnt', 'havent', 'hi', 'isnt', 'mightnt', 'mustnt', 'neednt', 'onc', 'onli', 'ourselv', 'shant', 'shouldnt', 'shouldv', 'thatll', 'themselv', 'thi', 'veri', 'wa', 'wasnt', 'werent', 'whi', 'wont', 'wouldnt', 'youd', 'youll', 'yourselv', 'youv'] not in stop_words.\n",
      "  warnings.warn('Your stop_words may be inconsistent with '\n",
      "C:\\Users\\Lenovo\\anaconda3\\lib\\site-packages\\sklearn\\feature_extraction\\text.py:388: UserWarning: Your stop_words may be inconsistent with your preprocessing. Tokenizing the stop words generated tokens ['abov', 'ani', 'arent', 'becaus', 'befor', 'couldnt', 'didnt', 'doe', 'doesnt', 'dont', 'dure', 'ha', 'hadnt', 'hasnt', 'havent', 'hi', 'isnt', 'mightnt', 'mustnt', 'neednt', 'onc', 'onli', 'ourselv', 'shant', 'shouldnt', 'shouldv', 'thatll', 'themselv', 'thi', 'veri', 'wa', 'wasnt', 'werent', 'whi', 'wont', 'wouldnt', 'youd', 'youll', 'yourselv', 'youv'] not in stop_words.\n",
      "  warnings.warn('Your stop_words may be inconsistent with '\n",
      "C:\\Users\\Lenovo\\anaconda3\\lib\\site-packages\\sklearn\\feature_extraction\\text.py:388: UserWarning: Your stop_words may be inconsistent with your preprocessing. Tokenizing the stop words generated tokens ['abov', 'ani', 'arent', 'becaus', 'befor', 'couldnt', 'didnt', 'doe', 'doesnt', 'dont', 'dure', 'ha', 'hadnt', 'hasnt', 'havent', 'hi', 'isnt', 'mightnt', 'mustnt', 'neednt', 'onc', 'onli', 'ourselv', 'shant', 'shouldnt', 'shouldv', 'thatll', 'themselv', 'thi', 'veri', 'wa', 'wasnt', 'werent', 'whi', 'wont', 'wouldnt', 'youd', 'youll', 'yourselv', 'youv'] not in stop_words.\n",
      "  warnings.warn('Your stop_words may be inconsistent with '\n"
     ]
    },
    {
     "name": "stdout",
     "output_type": "stream",
     "text": [
      "Accuracy: mean = 22.03%, sd = 0.73%, min = 21.08, max = 23.14\n",
      "Precision: mean = 22.02%, sd = 0.78%, min = 20.95, max = 23.23\n",
      "Recall: mean = 22.03%, sd = 0.73%, min = 21.08, max = 23.14\n",
      "F1: mean = 22.00%, sd = 0.77%, min = 20.96, max = 23.16\n"
     ]
    }
   ],
   "source": [
    "# for Passive Aggressive Classifier\n",
    "\n",
    "model.set_params(clf=PassiveAggressiveClassifier())\n",
    "\n",
    "cv_scores = cross_validate(model, x, y, \n",
    "                           cv=StratifiedKFold(n_splits=5, shuffle=False, random_state= None), \n",
    "                           return_train_score=False, \n",
    "                           scoring=['accuracy', 'precision_weighted', 'recall_weighted', 'f1_weighted']\n",
    "                          )\n",
    "\n",
    "print_cv_scores_summary(\"Accuracy\", cv_scores['test_accuracy'])\n",
    "print_cv_scores_summary(\"Precision\", cv_scores['test_precision_weighted'])\n",
    "print_cv_scores_summary(\"Recall\", cv_scores['test_recall_weighted'])\n",
    "print_cv_scores_summary(\"F1\", cv_scores['test_f1_weighted'])"
   ]
  },
  {
   "cell_type": "markdown",
   "id": "d927e491",
   "metadata": {},
   "source": [
    "# Manual Testing"
   ]
  },
  {
   "cell_type": "code",
   "execution_count": null,
   "id": "091845e7",
   "metadata": {},
   "outputs": [],
   "source": [
    "tfvect = TfidfVectorizer(stop_words='english',max_df=0.7)\n",
    "tfid_x_train = tfvect.fit_transform(x_train)\n",
    "tfid_x_test = tfvect.transform(x_test)"
   ]
  },
  {
   "cell_type": "code",
   "execution_count": null,
   "id": "d69637aa",
   "metadata": {},
   "outputs": [
    {
     "name": "stderr",
     "output_type": "stream",
     "text": [
      "C:\\Users\\Lenovo\\anaconda3\\lib\\site-packages\\sklearn\\linear_model\\_stochastic_gradient.py:574: ConvergenceWarning: Maximum number of iteration reached before convergence. Consider increasing max_iter to improve the fit.\n",
      "  warnings.warn(\"Maximum number of iteration reached before \"\n"
     ]
    },
    {
     "data": {
      "text/plain": [
       "PassiveAggressiveClassifier(max_iter=50)"
      ]
     },
     "execution_count": 81,
     "metadata": {},
     "output_type": "execute_result"
    }
   ],
   "source": [
    "classifier = PassiveAggressiveClassifier(max_iter=50)\n",
    "classifier.fit(tfid_x_train,y_train)"
   ]
  },
  {
   "cell_type": "code",
   "execution_count": null,
   "id": "230c4c41",
   "metadata": {},
   "outputs": [
    {
     "name": "stdout",
     "output_type": "stream",
     "text": [
      "Accuracy: 20.56%\n"
     ]
    }
   ],
   "source": [
    "y_pred = classifier.predict(tfid_x_test)\n",
    "score = accuracy_score(y_test,y_pred)\n",
    "print(f'Accuracy: {round(score*100,2)}%')"
   ]
  },
  {
   "cell_type": "code",
   "execution_count": null,
   "id": "827d9108",
   "metadata": {},
   "outputs": [],
   "source": [
    "def fake_news_det(news):\n",
    "    input_data = [news]\n",
    "    vectorized_input_data = tfvect.transform(input_data)\n",
    "    prediction = classifier.predict(vectorized_input_data)\n",
    "    print(prediction)"
   ]
  },
  {
   "cell_type": "code",
   "execution_count": null,
   "id": "db61918b",
   "metadata": {},
   "outputs": [
    {
     "name": "stdout",
     "output_type": "stream",
     "text": [
      "['barely-true']\n"
     ]
    }
   ],
   "source": [
    "fake_news_det(\"Says that U.S. Rep. Allen West\")"
   ]
  },
  {
   "cell_type": "code",
   "execution_count": null,
   "id": "72723c83",
   "metadata": {},
   "outputs": [
    {
     "name": "stdout",
     "output_type": "stream",
     "text": [
      "['half-true']\n"
     ]
    }
   ],
   "source": [
    "fake_news_det(\"Over the past two years, Florida has cut more\")"
   ]
  },
  {
   "cell_type": "code",
   "execution_count": null,
   "id": "f803d634",
   "metadata": {},
   "outputs": [
    {
     "name": "stdout",
     "output_type": "stream",
     "text": [
      "['mostly-true']\n"
     ]
    }
   ],
   "source": [
    "fake_news_det(\"The United States has the highest corporate tax rate in the free world.\")"
   ]
  },
  {
   "cell_type": "code",
   "execution_count": null,
   "id": "2308599f",
   "metadata": {},
   "outputs": [],
   "source": [
    "import pickle\n",
    "pickle.dump(classifier,open('FND1model.pkl', 'wb'))"
   ]
  },
  {
   "cell_type": "code",
   "execution_count": null,
   "id": "a6f51db5",
   "metadata": {},
   "outputs": [],
   "source": [
    "# load the model from disk\n",
    "loaded_model = pickle.load(open('FND1model.pkl', 'rb'))"
   ]
  },
  {
   "cell_type": "code",
   "execution_count": null,
   "id": "7d4f742c",
   "metadata": {},
   "outputs": [],
   "source": [
    "def fake_news_det1(news):\n",
    "    input_data = [news]\n",
    "    vectorized_input_data = tfvect.transform(input_data)\n",
    "    prediction = loaded_model.predict(vectorized_input_data)\n",
    "    print(prediction)"
   ]
  },
  {
   "cell_type": "code",
   "execution_count": null,
   "id": "901ae6c4",
   "metadata": {},
   "outputs": [
    {
     "name": "stdout",
     "output_type": "stream",
     "text": [
      "['barely-true']\n"
     ]
    }
   ],
   "source": [
    "fake_news_det1(\"Says one out of three U.S. homeless men is a veteran.\")"
   ]
  },
  {
   "cell_type": "code",
   "execution_count": null,
   "id": "b93b0c26",
   "metadata": {},
   "outputs": [
    {
     "name": "stdout",
     "output_type": "stream",
     "text": [
      "['half-true']\n"
     ]
    }
   ],
   "source": [
    "fake_news_det1(\"I think it is unacceptable for the Chinese today to be larger in wind power and in solar panels and photovoltaic manufacturing than all of Europe put together -- forget the United States.\")"
   ]
  },
  {
   "cell_type": "code",
   "execution_count": null,
   "id": "34c69949",
   "metadata": {},
   "outputs": [],
   "source": []
  }
 ],
 "metadata": {
  "kernelspec": {
   "display_name": "Python 3 (ipykernel)",
   "language": "python",
   "name": "python3"
  },
  "language_info": {
   "codemirror_mode": {
    "name": "ipython",
    "version": 3
   },
   "file_extension": ".py",
   "mimetype": "text/x-python",
   "name": "python",
   "nbconvert_exporter": "python",
   "pygments_lexer": "ipython3",
   "version": "3.9.7"
  }
 },
 "nbformat": 4,
 "nbformat_minor": 5
}
